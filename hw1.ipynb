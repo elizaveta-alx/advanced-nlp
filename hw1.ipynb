{
 "cells": [
  {
   "cell_type": "markdown",
   "metadata": {
    "id": "TEEKQwtYDMUz"
   },
   "source": [
    "**SOFT DEADLINE:** `20.03.2022 23:59 msk` "
   ]
  },
  {
   "cell_type": "markdown",
   "metadata": {
    "id": "g-IAo9sYDMU-"
   },
   "source": [
    "# [5 points] Part 1. Data cleaning"
   ]
  },
  {
   "cell_type": "markdown",
   "metadata": {
    "id": "-SNyjuGjDMU_"
   },
   "source": [
    "The task is to clear the text data of the crawled web-pages from different sites. \n",
    "\n",
    "It is necessary to ensure that the distribution of the 100 most frequent words includes only meaningful words in english language (not particles, conjunctions, prepositions, numbers, tags, symbols)."
   ]
  },
  {
   "cell_type": "markdown",
   "metadata": {
    "id": "TA4VkGl2DMVB"
   },
   "source": [
    "Determine the order of operations below and carry out the appropriate cleaning.\n",
    "\n",
    "1. Remove non-english words\n",
    "1. Remove html-tags (try to do it with regular expression, or play with beautifulsoap library)\n",
    "1. Apply lemmatization / stemming\n",
    "1. Remove stop-words\n",
    "1. Additional processing - At your own initiative, if this helps to obtain a better distribution"
   ]
  },
  {
   "cell_type": "markdown",
   "metadata": {
    "id": "dmTs6-Ap49hu"
   },
   "source": [
    "Determine the order of operations below and carry out the appropriate cleaning.\n",
    "\n",
    "1. Apply lemmatization / stemming\n",
    "1. Remove non-english words\n",
    "1. Remove html-tags (try to do it with regular expression, or play with beautifulsoap library)\n",
    "1. Remove stop-words\n",
    "1. Additional processing - At your own initiative, if this helps to obtain a better distribution"
   ]
  },
  {
   "cell_type": "markdown",
   "metadata": {
    "id": "hjLsB9pdDMVC"
   },
   "source": [
    "#### Hints"
   ]
  },
  {
   "cell_type": "markdown",
   "metadata": {
    "id": "mk6ZLncvDMVD"
   },
   "source": [
    "1. To do text processing you may use nltk and re libraries\n",
    "1. and / or any other libraries on your choise"
   ]
  },
  {
   "cell_type": "markdown",
   "metadata": {
    "id": "KCbTa1OiDMVE"
   },
   "source": [
    "#### Data reading"
   ]
  },
  {
   "cell_type": "markdown",
   "metadata": {
    "id": "cXbG649IDMVG"
   },
   "source": [
    "The dataset for this part can be downloaded here: `https://drive.google.com/file/d/1wLwo83J-ikCCZY2RAoYx8NghaSaQ-lBA/view?usp=sharing`"
   ]
  },
  {
   "cell_type": "code",
   "execution_count": 39,
   "metadata": {
    "colab": {
     "base_uri": "https://localhost:8080/"
    },
    "id": "eSyY63JFUimb",
    "outputId": "08e7562a-1609-4195-f008-a4d23e160dde"
   },
   "outputs": [
    {
     "name": "stdout",
     "output_type": "stream",
     "text": [
      "Requirement already satisfied: spacy in c:\\users\\elisaveta\\anaconda3\\lib\\site-packages (3.2.3)\n",
      "Requirement already satisfied: tqdm<5.0.0,>=4.38.0 in c:\\users\\elisaveta\\anaconda3\\lib\\site-packages (from spacy) (4.59.0)\n",
      "Requirement already satisfied: srsly<3.0.0,>=2.4.1 in c:\\users\\elisaveta\\anaconda3\\lib\\site-packages (from spacy) (2.4.2)\n",
      "Requirement already satisfied: cymem<2.1.0,>=2.0.2 in c:\\users\\elisaveta\\anaconda3\\lib\\site-packages (from spacy) (2.0.6)\n",
      "Requirement already satisfied: thinc<8.1.0,>=8.0.12 in c:\\users\\elisaveta\\anaconda3\\lib\\site-packages (from spacy) (8.0.15)\n",
      "Requirement already satisfied: langcodes<4.0.0,>=3.2.0 in c:\\users\\elisaveta\\anaconda3\\lib\\site-packages (from spacy) (3.3.0)\n",
      "Requirement already satisfied: numpy>=1.15.0 in c:\\users\\elisaveta\\anaconda3\\lib\\site-packages (from spacy) (1.20.1)\n",
      "Requirement already satisfied: pathy>=0.3.5 in c:\\users\\elisaveta\\anaconda3\\lib\\site-packages (from spacy) (0.6.1)\n",
      "Requirement already satisfied: blis<0.8.0,>=0.4.0 in c:\\users\\elisaveta\\anaconda3\\lib\\site-packages (from spacy) (0.7.6)\n",
      "Requirement already satisfied: spacy-legacy<3.1.0,>=3.0.8 in c:\\users\\elisaveta\\anaconda3\\lib\\site-packages (from spacy) (3.0.9)\n",
      "Requirement already satisfied: preshed<3.1.0,>=3.0.2 in c:\\users\\elisaveta\\anaconda3\\lib\\site-packages (from spacy) (3.0.6)\n",
      "Requirement already satisfied: spacy-loggers<2.0.0,>=1.0.0 in c:\\users\\elisaveta\\anaconda3\\lib\\site-packages (from spacy) (1.0.1)\n",
      "Requirement already satisfied: pydantic!=1.8,!=1.8.1,<1.9.0,>=1.7.4 in c:\\users\\elisaveta\\anaconda3\\lib\\site-packages (from spacy) (1.8.2)\n",
      "Requirement already satisfied: requests<3.0.0,>=2.13.0 in c:\\users\\elisaveta\\anaconda3\\lib\\site-packages (from spacy) (2.25.1)\n",
      "Requirement already satisfied: jinja2 in c:\\users\\elisaveta\\anaconda3\\lib\\site-packages (from spacy) (2.11.3)\n",
      "Requirement already satisfied: setuptools in c:\\users\\elisaveta\\anaconda3\\lib\\site-packages (from spacy) (52.0.0.post20210125)\n",
      "Requirement already satisfied: catalogue<2.1.0,>=2.0.6 in c:\\users\\elisaveta\\anaconda3\\lib\\site-packages (from spacy) (2.0.6)\n",
      "Requirement already satisfied: packaging>=20.0 in c:\\users\\elisaveta\\anaconda3\\lib\\site-packages (from spacy) (20.9)\n",
      "Requirement already satisfied: wasabi<1.1.0,>=0.8.1 in c:\\users\\elisaveta\\anaconda3\\lib\\site-packages (from spacy) (0.9.0)\n",
      "Requirement already satisfied: murmurhash<1.1.0,>=0.28.0 in c:\\users\\elisaveta\\anaconda3\\lib\\site-packages (from spacy) (1.0.6)\n",
      "Requirement already satisfied: typer<0.5.0,>=0.3.0 in c:\\users\\elisaveta\\anaconda3\\lib\\site-packages (from spacy) (0.4.0)\n",
      "Requirement already satisfied: pyparsing>=2.0.2 in c:\\users\\elisaveta\\anaconda3\\lib\\site-packages (from packaging>=20.0->spacy) (2.4.7)\n",
      "Requirement already satisfied: smart-open<6.0.0,>=5.0.0 in c:\\users\\elisaveta\\anaconda3\\lib\\site-packages (from pathy>=0.3.5->spacy) (5.2.1)\n",
      "Requirement already satisfied: typing-extensions>=3.7.4.3 in c:\\users\\elisaveta\\anaconda3\\lib\\site-packages (from pydantic!=1.8,!=1.8.1,<1.9.0,>=1.7.4->spacy) (3.7.4.3)\n",
      "Requirement already satisfied: chardet<5,>=3.0.2 in c:\\users\\elisaveta\\anaconda3\\lib\\site-packages (from requests<3.0.0,>=2.13.0->spacy) (4.0.0)\n",
      "Requirement already satisfied: urllib3<1.27,>=1.21.1 in c:\\users\\elisaveta\\anaconda3\\lib\\site-packages (from requests<3.0.0,>=2.13.0->spacy) (1.26.4)\n",
      "Requirement already satisfied: certifi>=2017.4.17 in c:\\users\\elisaveta\\anaconda3\\lib\\site-packages (from requests<3.0.0,>=2.13.0->spacy) (2020.12.5)\n",
      "Requirement already satisfied: idna<3,>=2.5 in c:\\users\\elisaveta\\anaconda3\\lib\\site-packages (from requests<3.0.0,>=2.13.0->spacy) (2.10)\n",
      "Requirement already satisfied: click<9.0.0,>=7.1.1 in c:\\users\\elisaveta\\anaconda3\\lib\\site-packages (from typer<0.5.0,>=0.3.0->spacy) (7.1.2)\n",
      "Requirement already satisfied: MarkupSafe>=0.23 in c:\\users\\elisaveta\\anaconda3\\lib\\site-packages (from jinja2->spacy) (1.1.1)\n",
      "Requirement already satisfied: plotly in c:\\users\\elisaveta\\anaconda3\\lib\\site-packages (5.6.0)\n",
      "Requirement already satisfied: six in c:\\users\\elisaveta\\anaconda3\\lib\\site-packages (from plotly) (1.15.0)\n",
      "Requirement already satisfied: tenacity>=6.2.0 in c:\\users\\elisaveta\\anaconda3\\lib\\site-packages (from plotly) (8.0.1)\n",
      "Collecting en-core-web-sm==3.2.0\n",
      "  Downloading https://github.com/explosion/spacy-models/releases/download/en_core_web_sm-3.2.0/en_core_web_sm-3.2.0-py3-none-any.whl (13.9 MB)\n",
      "Requirement already satisfied: spacy<3.3.0,>=3.2.0 in c:\\users\\elisaveta\\anaconda3\\lib\\site-packages (from en-core-web-sm==3.2.0) (3.2.3)\n",
      "Requirement already satisfied: tqdm<5.0.0,>=4.38.0 in c:\\users\\elisaveta\\anaconda3\\lib\\site-packages (from spacy<3.3.0,>=3.2.0->en-core-web-sm==3.2.0) (4.59.0)\n",
      "Requirement already satisfied: spacy-loggers<2.0.0,>=1.0.0 in c:\\users\\elisaveta\\anaconda3\\lib\\site-packages (from spacy<3.3.0,>=3.2.0->en-core-web-sm==3.2.0) (1.0.1)\n",
      "Requirement already satisfied: numpy>=1.15.0 in c:\\users\\elisaveta\\anaconda3\\lib\\site-packages (from spacy<3.3.0,>=3.2.0->en-core-web-sm==3.2.0) (1.20.1)\n",
      "Requirement already satisfied: setuptools in c:\\users\\elisaveta\\anaconda3\\lib\\site-packages (from spacy<3.3.0,>=3.2.0->en-core-web-sm==3.2.0) (52.0.0.post20210125)\n",
      "Requirement already satisfied: packaging>=20.0 in c:\\users\\elisaveta\\anaconda3\\lib\\site-packages (from spacy<3.3.0,>=3.2.0->en-core-web-sm==3.2.0) (20.9)\n",
      "Requirement already satisfied: pathy>=0.3.5 in c:\\users\\elisaveta\\anaconda3\\lib\\site-packages (from spacy<3.3.0,>=3.2.0->en-core-web-sm==3.2.0) (0.6.1)\n",
      "Requirement already satisfied: typer<0.5.0,>=0.3.0 in c:\\users\\elisaveta\\anaconda3\\lib\\site-packages (from spacy<3.3.0,>=3.2.0->en-core-web-sm==3.2.0) (0.4.0)\n",
      "Requirement already satisfied: thinc<8.1.0,>=8.0.12 in c:\\users\\elisaveta\\anaconda3\\lib\\site-packages (from spacy<3.3.0,>=3.2.0->en-core-web-sm==3.2.0) (8.0.15)\n",
      "Requirement already satisfied: preshed<3.1.0,>=3.0.2 in c:\\users\\elisaveta\\anaconda3\\lib\\site-packages (from spacy<3.3.0,>=3.2.0->en-core-web-sm==3.2.0) (3.0.6)\n",
      "Requirement already satisfied: langcodes<4.0.0,>=3.2.0 in c:\\users\\elisaveta\\anaconda3\\lib\\site-packages (from spacy<3.3.0,>=3.2.0->en-core-web-sm==3.2.0) (3.3.0)\n",
      "Requirement already satisfied: requests<3.0.0,>=2.13.0 in c:\\users\\elisaveta\\anaconda3\\lib\\site-packages (from spacy<3.3.0,>=3.2.0->en-core-web-sm==3.2.0) (2.25.1)\n",
      "Requirement already satisfied: cymem<2.1.0,>=2.0.2 in c:\\users\\elisaveta\\anaconda3\\lib\\site-packages (from spacy<3.3.0,>=3.2.0->en-core-web-sm==3.2.0) (2.0.6)\n",
      "Requirement already satisfied: spacy-legacy<3.1.0,>=3.0.8 in c:\\users\\elisaveta\\anaconda3\\lib\\site-packages (from spacy<3.3.0,>=3.2.0->en-core-web-sm==3.2.0) (3.0.9)\n",
      "Requirement already satisfied: blis<0.8.0,>=0.4.0 in c:\\users\\elisaveta\\anaconda3\\lib\\site-packages (from spacy<3.3.0,>=3.2.0->en-core-web-sm==3.2.0) (0.7.6)\n",
      "Requirement already satisfied: wasabi<1.1.0,>=0.8.1 in c:\\users\\elisaveta\\anaconda3\\lib\\site-packages (from spacy<3.3.0,>=3.2.0->en-core-web-sm==3.2.0) (0.9.0)\n",
      "Requirement already satisfied: murmurhash<1.1.0,>=0.28.0 in c:\\users\\elisaveta\\anaconda3\\lib\\site-packages (from spacy<3.3.0,>=3.2.0->en-core-web-sm==3.2.0) (1.0.6)\n",
      "Requirement already satisfied: pydantic!=1.8,!=1.8.1,<1.9.0,>=1.7.4 in c:\\users\\elisaveta\\anaconda3\\lib\\site-packages (from spacy<3.3.0,>=3.2.0->en-core-web-sm==3.2.0) (1.8.2)\n",
      "Requirement already satisfied: srsly<3.0.0,>=2.4.1 in c:\\users\\elisaveta\\anaconda3\\lib\\site-packages (from spacy<3.3.0,>=3.2.0->en-core-web-sm==3.2.0) (2.4.2)\n",
      "Requirement already satisfied: jinja2 in c:\\users\\elisaveta\\anaconda3\\lib\\site-packages (from spacy<3.3.0,>=3.2.0->en-core-web-sm==3.2.0) (2.11.3)\n",
      "Requirement already satisfied: catalogue<2.1.0,>=2.0.6 in c:\\users\\elisaveta\\anaconda3\\lib\\site-packages (from spacy<3.3.0,>=3.2.0->en-core-web-sm==3.2.0) (2.0.6)\n",
      "Requirement already satisfied: pyparsing>=2.0.2 in c:\\users\\elisaveta\\anaconda3\\lib\\site-packages (from packaging>=20.0->spacy<3.3.0,>=3.2.0->en-core-web-sm==3.2.0) (2.4.7)\n",
      "Requirement already satisfied: smart-open<6.0.0,>=5.0.0 in c:\\users\\elisaveta\\anaconda3\\lib\\site-packages (from pathy>=0.3.5->spacy<3.3.0,>=3.2.0->en-core-web-sm==3.2.0) (5.2.1)\n",
      "Requirement already satisfied: typing-extensions>=3.7.4.3 in c:\\users\\elisaveta\\anaconda3\\lib\\site-packages (from pydantic!=1.8,!=1.8.1,<1.9.0,>=1.7.4->spacy<3.3.0,>=3.2.0->en-core-web-sm==3.2.0) (3.7.4.3)\n",
      "Requirement already satisfied: certifi>=2017.4.17 in c:\\users\\elisaveta\\anaconda3\\lib\\site-packages (from requests<3.0.0,>=2.13.0->spacy<3.3.0,>=3.2.0->en-core-web-sm==3.2.0) (2020.12.5)\n",
      "Requirement already satisfied: idna<3,>=2.5 in c:\\users\\elisaveta\\anaconda3\\lib\\site-packages (from requests<3.0.0,>=2.13.0->spacy<3.3.0,>=3.2.0->en-core-web-sm==3.2.0) (2.10)\n",
      "Requirement already satisfied: chardet<5,>=3.0.2 in c:\\users\\elisaveta\\anaconda3\\lib\\site-packages (from requests<3.0.0,>=2.13.0->spacy<3.3.0,>=3.2.0->en-core-web-sm==3.2.0) (4.0.0)\n",
      "Requirement already satisfied: urllib3<1.27,>=1.21.1 in c:\\users\\elisaveta\\anaconda3\\lib\\site-packages (from requests<3.0.0,>=2.13.0->spacy<3.3.0,>=3.2.0->en-core-web-sm==3.2.0) (1.26.4)\n",
      "Requirement already satisfied: click<9.0.0,>=7.1.1 in c:\\users\\elisaveta\\anaconda3\\lib\\site-packages (from typer<0.5.0,>=0.3.0->spacy<3.3.0,>=3.2.0->en-core-web-sm==3.2.0) (7.1.2)\n",
      "Requirement already satisfied: MarkupSafe>=0.23 in c:\\users\\elisaveta\\anaconda3\\lib\\site-packages (from jinja2->spacy<3.3.0,>=3.2.0->en-core-web-sm==3.2.0) (1.1.1)\n",
      "[!] As of spaCy v3.0, shortcuts like 'en' are deprecated. Please use the full\n",
      "pipeline package name 'en_core_web_sm' instead.\n",
      "[+] Download and installation successful\n",
      "You can now load the package via spacy.load('en_core_web_sm')\n"
     ]
    }
   ],
   "source": [
    "import sys\n",
    "!{sys.executable} -m pip install spacy\n",
    "!{sys.executable} -m pip install plotly\n",
    "# Download spaCy's  'en' Model\n",
    "!{sys.executable} -m spacy download en"
   ]
  },
  {
   "cell_type": "code",
   "execution_count": 40,
   "metadata": {
    "id": "1LWdP1CxUimZ"
   },
   "outputs": [],
   "source": [
    "import re\n",
    "import nltk\n",
    "import operator\n",
    "import pandas as pd\n",
    "from itertools import islice\n",
    "import csv\n",
    "import numpy as np\n",
    "import spacy\n",
    "\n",
    "\n",
    "from nltk.tokenize import word_tokenize, sent_tokenize\n",
    "from nltk.stem.porter import PorterStemmer\n",
    "from nltk.corpus import stopwords\n",
    "from urllib.request import urlopen\n",
    "from sklearn.feature_extraction.text import TfidfVectorizer"
   ]
  },
  {
   "cell_type": "code",
   "execution_count": 41,
   "metadata": {
    "colab": {
     "base_uri": "https://localhost:8080/"
    },
    "id": "2EBNbsSVUima",
    "outputId": "1c79edbb-4d13-4252-8c52-025bbff81db3"
   },
   "outputs": [
    {
     "name": "stderr",
     "output_type": "stream",
     "text": [
      "[nltk_data] Downloading package punkt to\n",
      "[nltk_data]     C:\\Users\\Elisaveta\\AppData\\Roaming\\nltk_data...\n",
      "[nltk_data]   Package punkt is already up-to-date!\n",
      "[nltk_data] Downloading package stopwords to\n",
      "[nltk_data]     C:\\Users\\Elisaveta\\AppData\\Roaming\\nltk_data...\n",
      "[nltk_data]   Package stopwords is already up-to-date!\n",
      "[nltk_data] Downloading package words to\n",
      "[nltk_data]     C:\\Users\\Elisaveta\\AppData\\Roaming\\nltk_data...\n",
      "[nltk_data]   Package words is already up-to-date!\n"
     ]
    },
    {
     "data": {
      "text/plain": [
       "True"
      ]
     },
     "execution_count": 41,
     "metadata": {},
     "output_type": "execute_result"
    }
   ],
   "source": [
    "nltk.download('punkt')\n",
    "nltk.download('stopwords')\n",
    "nltk.download('words')"
   ]
  },
  {
   "cell_type": "code",
   "execution_count": 43,
   "metadata": {
    "id": "MgWdSyxjUimd"
   },
   "outputs": [],
   "source": [
    "text = pd.read_csv('C:/Users/Elisaveta/Documents/web_sites_data.csv')"
   ]
  },
  {
   "cell_type": "code",
   "execution_count": 5,
   "metadata": {
    "colab": {
     "base_uri": "https://localhost:8080/"
    },
    "id": "9iBRltMRsYvy",
    "outputId": "b70c1d74-d3f5-4e13-bb60-1ecabc5429bd"
   },
   "outputs": [
    {
     "data": {
      "text/plain": [
       "71699"
      ]
     },
     "execution_count": 5,
     "metadata": {},
     "output_type": "execute_result"
    }
   ],
   "source": [
    "len(text)"
   ]
  },
  {
   "cell_type": "markdown",
   "metadata": {
    "id": "fGBTg9g4DMVJ"
   },
   "source": [
    "#### Data processing"
   ]
  },
  {
   "cell_type": "code",
   "execution_count": 161,
   "metadata": {},
   "outputs": [
    {
     "data": {
      "text/html": [
       "<div>\n",
       "<style scoped>\n",
       "    .dataframe tbody tr th:only-of-type {\n",
       "        vertical-align: middle;\n",
       "    }\n",
       "\n",
       "    .dataframe tbody tr th {\n",
       "        vertical-align: top;\n",
       "    }\n",
       "\n",
       "    .dataframe thead th {\n",
       "        text-align: right;\n",
       "    }\n",
       "</style>\n",
       "<table border=\"1\" class=\"dataframe\">\n",
       "  <thead>\n",
       "    <tr style=\"text-align: right;\">\n",
       "      <th></th>\n",
       "      <th>text</th>\n",
       "    </tr>\n",
       "  </thead>\n",
       "  <tbody>\n",
       "    <tr>\n",
       "      <th>0</th>\n",
       "      <td>&lt;html&gt;\\n&lt;head profile=\"http://www.w3.org/2005/...</td>\n",
       "    </tr>\n",
       "    <tr>\n",
       "      <th>1</th>\n",
       "      <td>&lt;html&gt;\\n&lt;head profile=\"http://www.w3.org/2005/...</td>\n",
       "    </tr>\n",
       "  </tbody>\n",
       "</table>\n",
       "</div>"
      ],
      "text/plain": [
       "                                                text\n",
       "0  <html>\\n<head profile=\"http://www.w3.org/2005/...\n",
       "1  <html>\\n<head profile=\"http://www.w3.org/2005/..."
      ]
     },
     "execution_count": 161,
     "metadata": {},
     "output_type": "execute_result"
    }
   ],
   "source": [
    "text_1 = text.iloc[:2,:]\n",
    "text_1"
   ]
  },
  {
   "cell_type": "code",
   "execution_count": 157,
   "metadata": {
    "id": "_qIkAaKC8Vdn"
   },
   "outputs": [],
   "source": [
    "CLEANR = re.compile('<.*?>')                                                              #create regular expression for removing html tags\n",
    "punct_mark = '''!()-[]{};:'\"\\,<>||./?@#'“”’‘—$%^&*_~+=|'''                                    #set of puntial marks   \n",
    "stop_words = set(stopwords.words('english'))\n",
    "load_model = spacy.load('en_core_web_sm', disable=['parser', 'ner'])\n",
    "words = set(nltk.corpus.words.words())"
   ]
  },
  {
   "cell_type": "code",
   "execution_count": 162,
   "metadata": {},
   "outputs": [],
   "source": [
    "def remove_digits_words(data):\n",
    "    text = re.sub(CLEANR, ' ', data['text'])                                                                  #remove html tags\n",
    "    text = re.sub('\\s+', ' ', text)                                                             #remove multiple space\n",
    "    text = re.sub(r\"http\\S+\", ' ', text)                                                        #remove URLs                                                           \n",
    "    text = re.sub(r'[^\\w\\s]', ' ', text) \n",
    "    text = re.sub(r\"[0-9]\", ' ', text)                                             #remove digits and some exceptions\n",
    "    text = text.lower()  # lower case conversion\n",
    "    text = re.sub('size|weight|inches|publisher|url|title|nbsp|href|x|p', ' ', text)\n",
    "    text = re.sub('\\s+', ' ', text)                                                             #remove multiple space\n",
    "    return text"
   ]
  },
  {
   "cell_type": "code",
   "execution_count": 165,
   "metadata": {
    "scrolled": false
   },
   "outputs": [
    {
     "data": {
      "text/html": [
       "<div>\n",
       "<style scoped>\n",
       "    .dataframe tbody tr th:only-of-type {\n",
       "        vertical-align: middle;\n",
       "    }\n",
       "\n",
       "    .dataframe tbody tr th {\n",
       "        vertical-align: top;\n",
       "    }\n",
       "\n",
       "    .dataframe thead th {\n",
       "        text-align: right;\n",
       "    }\n",
       "</style>\n",
       "<table border=\"1\" class=\"dataframe\">\n",
       "  <thead>\n",
       "    <tr style=\"text-align: right;\">\n",
       "      <th></th>\n",
       "      <th>text</th>\n",
       "    </tr>\n",
       "  </thead>\n",
       "  <tbody>\n",
       "    <tr>\n",
       "      <th>0</th>\n",
       "      <td>eric newby love and war in the a ennines eric...</td>\n",
       "    </tr>\n",
       "  </tbody>\n",
       "</table>\n",
       "</div>"
      ],
      "text/plain": [
       "                                                text\n",
       "0   eric newby love and war in the a ennines eric..."
      ]
     },
     "execution_count": 165,
     "metadata": {},
     "output_type": "execute_result"
    }
   ],
   "source": [
    "cleaned_data = text.apply(remove_digits_words, axis=1,result_type='broadcast')\n",
    "cleaned_data.head(1)"
   ]
  },
  {
   "cell_type": "code",
   "execution_count": 166,
   "metadata": {},
   "outputs": [
    {
     "data": {
      "text/plain": [
       "' eric newby love and war in the a ennines eric newby love and war in the a ennines author eric newby love and war in the a ennines moochable co ies no co ies available amazon suggests a short walk in the hindu kush slowly down the ganges on the shores of the mediterranean the last grain race round ireland in low gear recommended bookmooch bo of bookmooch bookmarks show more recommendations to ics abridged ancient asia audiobooks biogra hies memoirs biogra hies memoirs general books on cassette eastern front edition format euro e florence hiroshima nagasaki history history euro e general history euro e italy general home front intelligence o erations italy iwo jima medieval milan military na les naval normandy earl harbor ersonal narratives reference refinements renaissance rome sardinia sicily stalingrad travel travel euro e italy general tuscany umbria venice western front women world war ii writing ublished in english binding audio cassette ages date isbn har ercollins audio ounds edition abridged ed amazon rices revious givers jessierey usa oh revious moochers will for usa ca wishlists deb usa descri tion book descri tion when italy made eace in the summer of allied ows eric newby among them walked away from their rison cam s but italy was occu ied by the germans and the cam s were behind those lines newby went to the mountains where with the hel of locals he evaded the retreating enemy italian easants sheltered him for more than three months in this classic memoir of ww ii newby recalls these selfless eo le their unchanging lifestyle the funny bizarre and dangerous incidents his ho es of the local girl who later became his wife an e citing story su erbly told unch of related interest carlino by stuart hood and assages to freedom by jose h s frelinghuysen both available from b o t large book cover wishlist add save for later amazon other web sites related editions recommend '"
      ]
     },
     "execution_count": 166,
     "metadata": {},
     "output_type": "execute_result"
    }
   ],
   "source": [
    "cleaned_data.iloc[0,0]"
   ]
  },
  {
   "cell_type": "code",
   "execution_count": 169,
   "metadata": {},
   "outputs": [],
   "source": [
    "def remove_stop_words(data):\n",
    "    return \" \".join([word for word in word_tokenize(data['text']) if word not in stop_words])"
   ]
  },
  {
   "cell_type": "code",
   "execution_count": 170,
   "metadata": {},
   "outputs": [
    {
     "data": {
      "text/plain": [
       "'eric newby love war ennines eric newby love war ennines author eric newby love war ennines moochable co ies co ies available amazon suggests short walk hindu kush slowly ganges shores mediterranean last grain race round ireland low gear recommended bookmooch bo bookmooch bookmarks show recommendations ics abridged ancient asia audiobooks biogra hies memoirs biogra hies memoirs general books cassette eastern front edition format euro e florence hiroshima nagasaki history history euro e general history euro e italy general home front intelligence erations italy iwo jima medieval milan military na les naval normandy earl harbor ersonal narratives reference refinements renaissance rome sardinia sicily stalingrad travel travel euro e italy general tuscany umbria venice western front women world war ii writing ublished english binding audio cassette ages date isbn har ercollins audio ounds edition abridged ed amazon rices revious givers jessierey usa oh revious moochers usa ca wishlists deb usa descri tion book descri tion italy made eace summer allied ows eric newby among walked away rison cam italy occu ied germans cam behind lines newby went mountains hel locals evaded retreating enemy italian easants sheltered three months classic memoir ww ii newby recalls selfless eo le unchanging lifestyle funny bizarre dangerous incidents ho es local girl later became wife e citing story su erbly told unch related interest carlino stuart hood assages freedom jose h frelinghuysen available b large book cover wishlist add save later amazon web sites related editions recommend'"
      ]
     },
     "execution_count": 170,
     "metadata": {},
     "output_type": "execute_result"
    }
   ],
   "source": [
    "cleaned_data = cleaned_data.apply(remove_stop_words, axis=1,result_type='broadcast')\n",
    "cleaned_data.iloc[0,0]"
   ]
  },
  {
   "cell_type": "code",
   "execution_count": 172,
   "metadata": {},
   "outputs": [],
   "source": [
    "def remove_non_english_words(data):\n",
    "    return ' '.join(w for w in data['text'].split(' ') if w in words or not w.isalpha())"
   ]
  },
  {
   "cell_type": "code",
   "execution_count": 173,
   "metadata": {},
   "outputs": [
    {
     "data": {
      "text/plain": [
       "'eric love war eric love war author eric love war available short walk slowly mediterranean last grain race round low gear bo show abridged ancient general eastern front edition format e florence history history e general history e general home front intelligence medieval military na naval earl harbor reference renaissance travel travel e general western front world war writing binding audio date audio ounds edition abridged oh ca deb book made summer allied eric among away cam cam behind went retreating enemy sheltered three classic memoir selfless unchanging funny bizarre dangerous ho es local girl later wife e story told related interest hood freedom h available b large book cover add save later web related recommend'"
      ]
     },
     "execution_count": 173,
     "metadata": {},
     "output_type": "execute_result"
    }
   ],
   "source": [
    "cleaned_data = cleaned_data.apply(remove_non_english_words, axis=1,result_type='broadcast')\n",
    "cleaned_data.iloc[0,0]"
   ]
  },
  {
   "cell_type": "code",
   "execution_count": 174,
   "metadata": {},
   "outputs": [],
   "source": [
    "def lemmatization(data):\n",
    "    str = load_model(data['text'])\n",
    "    return \" \".join([token.lemma_ for token in str])"
   ]
  },
  {
   "cell_type": "code",
   "execution_count": 175,
   "metadata": {},
   "outputs": [
    {
     "data": {
      "text/plain": [
       "'eric love war eric love war author eric love war available short walk slowly mediterranean last grain race round low gear bo show abridge ancient general eastern front edition format e florence history history e general history e general home front intelligence medieval military na naval earl harbor reference renaissance travel travel e general western front world war write bind audio date audio ound edition abridge oh can deb book make summer ally eric among away cam cam behind go retreat enemy shelter three classic memoir selfless unchanging funny bizarre dangerous ho es local girl later wife e story tell relate interest hood freedom h available b large book cover add save later web relate recommend'"
      ]
     },
     "execution_count": 175,
     "metadata": {},
     "output_type": "execute_result"
    }
   ],
   "source": [
    "cleaned_data = cleaned_data.apply(lemmatization, axis=1,result_type='broadcast')\n",
    "cleaned_data.iloc[0,0]"
   ]
  },
  {
   "cell_type": "code",
   "execution_count": 222,
   "metadata": {},
   "outputs": [],
   "source": [
    "def remove_characters(data):\n",
    "    text = re.sub(r'_| [a-z] | bo |width|font|not|can|color|height|oh|ho|undefined', ' ', data['text'])                #remove multiple space\n",
    "    return text"
   ]
  },
  {
   "cell_type": "code",
   "execution_count": 223,
   "metadata": {},
   "outputs": [
    {
     "data": {
      "text/plain": [
       "'eric love war eric love war aut r eric love war available s rt walk slowly mediterranean last grain race round low gear s w abridge ancient general eastern front edition format florence history history general history general  me front intelligence medieval military na naval earl harbor reference renaissance travel travel general western front world war write bind audio date audio ound edition abridge     deb book make summer ally eric among away cam cam behind go retreat enemy shelter three classic memoir selfless unchanging funny bizarre dangerous   es local girl later wife story tell relate interest  od freedom available large book cover add save later web relate recommend'"
      ]
     },
     "execution_count": 223,
     "metadata": {},
     "output_type": "execute_result"
    }
   ],
   "source": [
    "cleaned_data = cleaned_data.apply(remove_characters, axis=1,result_type='broadcast')\n",
    "cleaned_data.iloc[0,0]"
   ]
  },
  {
   "cell_type": "code",
   "execution_count": 232,
   "metadata": {
    "id": "H59-VAGmDMVM"
   },
   "outputs": [],
   "source": [
    "cleaned_data.to_csv('cleaned_data.csv')"
   ]
  },
  {
   "cell_type": "markdown",
   "metadata": {
    "id": "_h_c-1kBDMVN"
   },
   "source": [
    "#### Vizualization"
   ]
  },
  {
   "cell_type": "markdown",
   "metadata": {
    "id": "HTu83iAWDMVN"
   },
   "source": [
    "As a visualisation, it is necessary to construct a frequency distribution of words (the 100 most common words), sorted by frequency. \n",
    "\n",
    "For visualization purposes we advice you to use plotly, but you are free to choose other libraries"
   ]
  },
  {
   "cell_type": "code",
   "execution_count": 12,
   "metadata": {},
   "outputs": [],
   "source": [
    "text = pd.read_csv('C:/Users/Elisaveta/Documents/cleaned_data.csv')"
   ]
  },
  {
   "cell_type": "code",
   "execution_count": 14,
   "metadata": {},
   "outputs": [],
   "source": [
    "from collections import Counter"
   ]
  },
  {
   "cell_type": "code",
   "execution_count": 224,
   "metadata": {},
   "outputs": [],
   "source": [
    "clean_data_list = []\n",
    "clean_data_list = cleaned_data['text'].tolist()"
   ]
  },
  {
   "cell_type": "code",
   "execution_count": 225,
   "metadata": {},
   "outputs": [
    {
     "name": "stderr",
     "output_type": "stream",
     "text": [
      "100%|███████████████████████████████████████████████████████████████████████████| 71699/71699 [02:05<00:00, 569.68it/s]\n"
     ]
    }
   ],
   "source": [
    "from tqdm import tqdm\n",
    "for i in tqdm(range(len(clean_data_list))):\n",
    "    clean_data_list[i]=word_tokenize(clean_data_list[i])"
   ]
  },
  {
   "cell_type": "code",
   "execution_count": 226,
   "metadata": {},
   "outputs": [
    {
     "name": "stderr",
     "output_type": "stream",
     "text": [
      "100%|██████████████████████████████████████████████████████████████████████████| 71699/71699 [00:10<00:00, 6686.06it/s]\n"
     ]
    }
   ],
   "source": [
    "data = []\n",
    "for lst in tqdm(clean_data_list):\n",
    "    data.extend(lst)"
   ]
  },
  {
   "cell_type": "code",
   "execution_count": 227,
   "metadata": {},
   "outputs": [],
   "source": [
    "count = Counter(data)"
   ]
  },
  {
   "cell_type": "code",
   "execution_count": 228,
   "metadata": {},
   "outputs": [
    {
     "data": {
      "text/plain": [
       "Counter({'eric': 1258,\n",
       "         'love': 10558,\n",
       "         'war': 45998,\n",
       "         'aut': 12947,\n",
       "         'r': 21623,\n",
       "         'available': 57679,\n",
       "         's': 217736,\n",
       "         'rt': 13337,\n",
       "         'walk': 1217,\n",
       "         'slowly': 407,\n",
       "         'mediterranean': 360,\n",
       "         'last': 59008,\n",
       "         'grain': 154,\n",
       "         'race': 19957,\n",
       "         'round': 24954,\n",
       "         'low': 48007,\n",
       "         'gear': 19660,\n",
       "         'w': 138733,\n",
       "         'abridge': 1240,\n",
       "         'ancient': 2959,\n",
       "         'general': 17289,\n",
       "         'eastern': 3344,\n",
       "         'front': 7580,\n",
       "         'edition': 39644,\n",
       "         'format': 15688,\n",
       "         'florence': 50,\n",
       "         'history': 16889,\n",
       "         'me': 161395,\n",
       "         'intelligence': 1019,\n",
       "         'medieval': 489,\n",
       "         'military': 2294,\n",
       "         'na': 10759,\n",
       "         'naval': 291,\n",
       "         'earl': 1130,\n",
       "         'harbor': 185,\n",
       "         'reference': 6414,\n",
       "         'renaissance': 1379,\n",
       "         'travel': 7340,\n",
       "         'western': 762,\n",
       "         'world': 123117,\n",
       "         'write': 366700,\n",
       "         'bind': 32556,\n",
       "         'audio': 19931,\n",
       "         'date': 171743,\n",
       "         'ound': 863,\n",
       "         'deb': 37,\n",
       "         'book': 51047,\n",
       "         'make': 50286,\n",
       "         'summer': 6577,\n",
       "         'ally': 1000,\n",
       "         'among': 1829,\n",
       "         'away': 3889,\n",
       "         'cam': 64280,\n",
       "         'behind': 12421,\n",
       "         'go': 54557,\n",
       "         'retreat': 242,\n",
       "         'enemy': 3974,\n",
       "         'shelter': 50,\n",
       "         'three': 11005,\n",
       "         'classic': 7695,\n",
       "         'memoir': 43,\n",
       "         'selfless': 20,\n",
       "         'unchanging': 4,\n",
       "         'funny': 3575,\n",
       "         'bizarre': 720,\n",
       "         'dangerous': 2217,\n",
       "         'es': 70487,\n",
       "         'local': 6266,\n",
       "         'girl': 1915,\n",
       "         'later': 3492,\n",
       "         'wife': 812,\n",
       "         'story': 23020,\n",
       "         'tell': 14521,\n",
       "         'relate': 11854,\n",
       "         'interest': 8927,\n",
       "         'od': 13283,\n",
       "         'freedom': 1580,\n",
       "         'large': 8948,\n",
       "         'cover': 7899,\n",
       "         'add': 89268,\n",
       "         'save': 20284,\n",
       "         'web': 38439,\n",
       "         'recommend': 2103,\n",
       "         'dozen': 445,\n",
       "         'bookseller': 37,\n",
       "         'lovely': 160,\n",
       "         'tea': 301,\n",
       "         'one': 72321,\n",
       "         'man': 70841,\n",
       "         'mission': 4829,\n",
       "         'elegance': 31,\n",
       "         'hedge': 2545,\n",
       "         'g': 9832,\n",
       "         'banner': 122,\n",
       "         'heaven': 423,\n",
       "         'feminism': 4,\n",
       "         'ale': 4475,\n",
       "         'smith': 1207,\n",
       "         'giraffe': 205,\n",
       "         'longitude': 4,\n",
       "         'true': 133372,\n",
       "         'lone': 514,\n",
       "         'five': 7954,\n",
       "         'quarter': 11888,\n",
       "         'orange': 6223,\n",
       "         'education': 8945,\n",
       "         'ti': 45743,\n",
       "         'ore': 9095,\n",
       "         'also': 44611,\n",
       "         'review': 92106,\n",
       "         'decade': 1972,\n",
       "         'follow': 15043,\n",
       "         'end': 60181,\n",
       "         'toil': 17,\n",
       "         'fashion': 4899,\n",
       "         'industry': 8838,\n",
       "         'clothe': 785,\n",
       "         'regard': 1842,\n",
       "         'wafer': 53,\n",
       "         'thin': 745,\n",
       "         'model': 784,\n",
       "         'runway': 44,\n",
       "         'good': 52396,\n",
       "         'flag': 989,\n",
       "         'ut': 55891,\n",
       "         'mall': 309,\n",
       "         'queen': 842,\n",
       "         'come': 18569,\n",
       "         'fortunately': 199,\n",
       "         'tether': 14,\n",
       "         'oint': 15476,\n",
       "         'sort': 7833,\n",
       "         'sublime': 88,\n",
       "         'forbid': 246,\n",
       "         'fictional': 258,\n",
       "         'endemic': 15,\n",
       "         'real': 50602,\n",
       "         'decide': 1672,\n",
       "         'visit': 20137,\n",
       "         'remote': 12074,\n",
       "         'corner': 2287,\n",
       "         'least': 13728,\n",
       "         'adventure': 33179,\n",
       "         'narrative': 508,\n",
       "         'course': 2729,\n",
       "         'fine': 4233,\n",
       "         'habitual': 11,\n",
       "         'self': 21257,\n",
       "         'effacement': 11,\n",
       "         'since': 16794,\n",
       "         'journey': 3392,\n",
       "         'include': 9960,\n",
       "         'near': 2702,\n",
       "         'ascent': 30,\n",
       "         'foot': 1310,\n",
       "         'mir': 52,\n",
       "         'anything': 14004,\n",
       "         'furnish': 63,\n",
       "         'miss': 9250,\n",
       "         'link': 96892,\n",
       "         'great': 23823,\n",
       "         'era': 1502,\n",
       "         'orary': 1565,\n",
       "         'jungle': 1047,\n",
       "         'time': 136529,\n",
       "         'mind': 7452,\n",
       "         'waugh': 33,\n",
       "         'reface': 107,\n",
       "         'less': 5789,\n",
       "         'acidulous': 11,\n",
       "         'writer': 636,\n",
       "         'sure': 7151,\n",
       "         'little': 8105,\n",
       "         'heat': 2282,\n",
       "         'seek': 1383,\n",
       "         'satiric': 11,\n",
       "         'still': 9567,\n",
       "         'hilarious': 553,\n",
       "         'read': 49438,\n",
       "         'dis': 201889,\n",
       "         'ot': 16856,\n",
       "         'say': 25805,\n",
       "         'backwater': 11,\n",
       "         'two': 20391,\n",
       "         'le': 12165,\n",
       "         'gale': 156,\n",
       "         'wind': 899,\n",
       "         'blow': 1673,\n",
       "         'tear': 1858,\n",
       "         'surface': 506,\n",
       "         'main': 11168,\n",
       "         'street': 25808,\n",
       "         'ce': 5808,\n",
       "         'ld': 8901,\n",
       "         'dog': 1912,\n",
       "         'se': 38426,\n",
       "         'hind': 25,\n",
       "         'desert': 1154,\n",
       "         'sly': 446,\n",
       "         'dig': 2994,\n",
       "         'violence': 12550,\n",
       "         'rone': 169,\n",
       "         'officially': 3601,\n",
       "         'subsidy': 17,\n",
       "         'fully': 3406,\n",
       "         'selection': 1807,\n",
       "         'amir': 32,\n",
       "         'art': 31076,\n",
       "         'lord': 6976,\n",
       "         'like': 31934,\n",
       "         'alive': 2157,\n",
       "         'non': 12462,\n",
       "         'stand': 2061,\n",
       "         'neck': 257,\n",
       "         'water': 2138,\n",
       "         'high': 54122,\n",
       "         'freeze': 251,\n",
       "         'solid': 106948,\n",
       "         'do': 33030,\n",
       "         'hing': 13082,\n",
       "         'could': 11809,\n",
       "         'take': 35540,\n",
       "         'sur': 5399,\n",
       "         'indeed': 440,\n",
       "         'a': 9776,\n",
       "         'her': 9491,\n",
       "         'miraculously': 53,\n",
       "         'free': 64842,\n",
       "         'solo': 1273,\n",
       "         'even': 13784,\n",
       "         'literary': 561,\n",
       "         'tend': 2004,\n",
       "         'sense': 1458,\n",
       "         'term': 2842,\n",
       "         'center': 35848,\n",
       "         'wonderfully': 202,\n",
       "         'oblique': 14,\n",
       "         'anion': 348,\n",
       "         'carless': 11,\n",
       "         'star': 33459,\n",
       "         'role': 15339,\n",
       "         'subsequent': 203,\n",
       "         'brilliant': 969,\n",
       "         'cameo': 50,\n",
       "         'indelible': 23,\n",
       "         'record': 3599,\n",
       "         'stun': 562,\n",
       "         'roof': 1049,\n",
       "         'render': 2806,\n",
       "         'absolute': 41206,\n",
       "         'hell': 4633,\n",
       "         'yet': 6344,\n",
       "         'never': 9786,\n",
       "         'malicious': 44,\n",
       "         'nature': 3359,\n",
       "         'frost': 66,\n",
       "         'memorable': 1715,\n",
       "         'lofty': 89,\n",
       "         'original': 11648,\n",
       "         'rage': 2414,\n",
       "         'reason': 3290,\n",
       "         'call': 42091,\n",
       "         'master': 8006,\n",
       "         'unabridged': 707,\n",
       "         'feature': 38949,\n",
       "         'four': 8463,\n",
       "         'browse': 16800,\n",
       "         'bin': 281,\n",
       "         'literature': 2081,\n",
       "         'fiction': 5556,\n",
       "         'drama': 1224,\n",
       "         'unlaunched': 67,\n",
       "         'lyrical': 94,\n",
       "         'long': 10238,\n",
       "         'abbey': 75,\n",
       "         'immortality': 66,\n",
       "         'trace': 544,\n",
       "         'uncle': 1469,\n",
       "         'cabin': 1276,\n",
       "         'noble': 2412,\n",
       "         'dover': 522,\n",
       "         'thrift': 1406,\n",
       "         'young': 5895,\n",
       "         'shack': 124,\n",
       "         'road': 7204,\n",
       "         'rah': 45,\n",
       "         'club': 46915,\n",
       "         'invisible': 3188,\n",
       "         'ology': 110,\n",
       "         'archaeology': 565,\n",
       "         'creative': 1059,\n",
       "         'writing': 317,\n",
       "         'criminology': 4,\n",
       "         'gay': 512,\n",
       "         'gender': 1302,\n",
       "         'theory': 722,\n",
       "         'science': 7412,\n",
       "         'social': 2977,\n",
       "         'sociology': 8,\n",
       "         'use': 88906,\n",
       "         'favorite': 7354,\n",
       "         'distinguished': 111,\n",
       "         'lee': 4860,\n",
       "         'callow': 387,\n",
       "         'terry': 1360,\n",
       "         'firth': 56,\n",
       "         'rufus': 65,\n",
       "         'series': 20294,\n",
       "         'beautifully': 549,\n",
       "         'shrink': 257,\n",
       "         'consider': 4993,\n",
       "         'lily': 173,\n",
       "         'hand': 13219,\n",
       "         'see': 76336,\n",
       "         'snow': 916,\n",
       "         'flower': 393,\n",
       "         'secret': 4835,\n",
       "         'fan': 4701,\n",
       "         'novel': 2906,\n",
       "         'linwood': 4,\n",
       "         'berg': 68,\n",
       "         'talk': 30747,\n",
       "         'slee': 6216,\n",
       "         'de': 45690,\n",
       "         'tain': 2256,\n",
       "         'mary': 288,\n",
       "         'night': 10229,\n",
       "         'magic': 10898,\n",
       "         'tree': 3965,\n",
       "         'sue': 1091,\n",
       "         'burglar': 7,\n",
       "         'big': 19351,\n",
       "         'bad': 12415,\n",
       "         'comic': 4155,\n",
       "         'erotica': 82,\n",
       "         'foreign': 1855,\n",
       "         'language': 10198,\n",
       "         'genre': 44401,\n",
       "         'historical': 13859,\n",
       "         'criticism': 354,\n",
       "         'romance': 4363,\n",
       "         'er': 192856,\n",
       "         'collins': 3850,\n",
       "         'winner': 7981,\n",
       "         'romantic': 321,\n",
       "         'novelist': 172,\n",
       "         'association': 2204,\n",
       "         'year': 33239,\n",
       "         'award': 2930,\n",
       "         'senna': 209,\n",
       "         'versus': 945,\n",
       "         'deadly': 2275,\n",
       "         'rivalry': 217,\n",
       "         'racing': 15660,\n",
       "         'driver': 2479,\n",
       "         'abridged': 192,\n",
       "         'automotive': 3334,\n",
       "         'miscellaneous': 3116,\n",
       "         'motor': 1710,\n",
       "         'nonfiction': 79,\n",
       "         'outdoors': 2743,\n",
       "         'unlaunche': 4,\n",
       "         'early': 8295,\n",
       "         'struggle': 1579,\n",
       "         'fight': 16850,\n",
       "         'back': 50911,\n",
       "         'broken': 2634,\n",
       "         'sell': 16467,\n",
       "         'fund': 37774,\n",
       "         'roust': 472,\n",
       "         'drive': 44475,\n",
       "         'forthrightly': 22,\n",
       "         'fellow': 3820,\n",
       "         'well': 29016,\n",
       "         'formula': 3365,\n",
       "         'win': 22827,\n",
       "         'cham': 54206,\n",
       "         'ted': 1183,\n",
       "         'comeback': 518,\n",
       "         'midnight': 5228,\n",
       "         'lonely': 300,\n",
       "         'lace': 52395,\n",
       "         'edge': 8459,\n",
       "         'darkness': 5550,\n",
       "         'child': 114018,\n",
       "         'kingdom': 10287,\n",
       "         'light': 91848,\n",
       "         'twilight': 540,\n",
       "         'saga': 5634,\n",
       "         'accord': 2565,\n",
       "         'beach': 1090,\n",
       "         'mott': 12,\n",
       "         'season': 15647,\n",
       "         'morality': 71,\n",
       "         'beautiful': 5356,\n",
       "         'jane': 244,\n",
       "         'get': 124602,\n",
       "         'tough': 1374,\n",
       "         'joss': 313,\n",
       "         'ado': 869,\n",
       "         'know': 16009,\n",
       "         'mother': 948,\n",
       "         'natural': 3083,\n",
       "         'understand': 1064,\n",
       "         'family': 64078,\n",
       "         'rrific': 193,\n",
       "         'ast': 20460,\n",
       "         'h': 2428,\n",
       "         'victory': 2631,\n",
       "         'el': 76150,\n",
       "         'become': 9369,\n",
       "         'involve': 737,\n",
       "         'coal': 280,\n",
       "         'island': 4129,\n",
       "         'turn': 8321,\n",
       "         'humanity': 714,\n",
       "         'draw': 4999,\n",
       "         'contact': 55282,\n",
       "         'watch': 21595,\n",
       "         'weekend': 2592,\n",
       "         'mystery': 2930,\n",
       "         'thriller': 1893,\n",
       "         'ense': 985,\n",
       "         'tale': 8187,\n",
       "         'intrigue': 486,\n",
       "         'crime': 3592,\n",
       "         'hard': 14638,\n",
       "         'boil': 207,\n",
       "         'legal': 1647,\n",
       "         'medical': 2333,\n",
       "         'sherlock': 67,\n",
       "         'j': 4562,\n",
       "         'ground': 3442,\n",
       "         'zero': 4476,\n",
       "         'skin': 756,\n",
       "         'whirlwind': 46,\n",
       "         'ultimate': 12131,\n",
       "         'solution': 2124,\n",
       "         'food': 4783,\n",
       "         'guide': 27668,\n",
       "         'rescue': 2820,\n",
       "         'scarlet': 21,\n",
       "         'letter': 1339,\n",
       "         'new': 319442,\n",
       "         'carb': 4,\n",
       "         'ydrate': 4,\n",
       "         'gram': 10,\n",
       "         'counter': 1213,\n",
       "         'amour': 13,\n",
       "         'mesa': 22,\n",
       "         'slater': 224,\n",
       "         'toast': 36,\n",
       "         'leave': 167462,\n",
       "         'earth': 5814,\n",
       "         'activity': 5738,\n",
       "         'gra': 17718,\n",
       "         'hic': 5530,\n",
       "         'doctor': 416,\n",
       "         'lete': 27121,\n",
       "         'hitch': 179,\n",
       "         'gala': 2847,\n",
       "         'humour': 743,\n",
       "         'stationery': 1314,\n",
       "         'regular': 4954,\n",
       "         'fantasy': 37113,\n",
       "         'warrior': 2334,\n",
       "         'lady': 1062,\n",
       "         'hay': 69,\n",
       "         'la': 38873,\n",
       "         'beneath': 274,\n",
       "         'dee': 6914,\n",
       "         'combat': 10529,\n",
       "         'mark': 6683,\n",
       "         'burn': 1445,\n",
       "         'lewis': 500,\n",
       "         'resort': 208,\n",
       "         'fire': 12174,\n",
       "         'affair': 316,\n",
       "         'successful': 4626,\n",
       "         'cottage': 297,\n",
       "         'wild': 4280,\n",
       "         'coast': 1200,\n",
       "         'work': 15990,\n",
       "         'alison': 28,\n",
       "         'landlord': 60,\n",
       "         'daughter': 611,\n",
       "         'site': 115206,\n",
       "         'nearby': 220,\n",
       "         'unleash': 8439,\n",
       "         'fay': 123,\n",
       "         'wicked': 329,\n",
       "         'bearded': 4,\n",
       "         'diverse': 762,\n",
       "         'collection': 10139,\n",
       "         'value': 160662,\n",
       "         'grudge': 53,\n",
       "         'forget': 6338,\n",
       "         'vengeance': 833,\n",
       "         'heroine': 296,\n",
       "         'life': 20066,\n",
       "         'devil': 4914,\n",
       "         'faithless': 8,\n",
       "         'husband': 344,\n",
       "         'steal': 1107,\n",
       "         'scorn': 29,\n",
       "         'order': 19408,\n",
       "         'remake': 494,\n",
       "         'image': 110756,\n",
       "         'rival': 1362,\n",
       "         'break': 56201,\n",
       "         'surgery': 374,\n",
       "         'worth': 4033,\n",
       "         'finally': 2758,\n",
       "         'conceit': 20,\n",
       "         'might': 3440,\n",
       "         'seem': 956,\n",
       "         'revenge': 5413,\n",
       "         'whether': 5162,\n",
       "         't': 33476,\n",
       "         'cold': 1429,\n",
       "         'tasty': 155,\n",
       "         'dish': 1010,\n",
       "         'crusade': 509,\n",
       "         'ensure': 567,\n",
       "         'dark': 22297,\n",
       "         'savagely': 27,\n",
       "         'satirical': 24,\n",
       "         'recently': 1199,\n",
       "         'father': 1509,\n",
       "         'nice': 3095,\n",
       "         'ha': 11478,\n",
       "         'ens': 1913,\n",
       "         'former': 5145,\n",
       "         'ist': 8298,\n",
       "         'blood': 10091,\n",
       "         'relation': 30,\n",
       "         'table': 71914,\n",
       "         'heartless': 107,\n",
       "         'manner': 246,\n",
       "         'delight': 645,\n",
       "         'reader': 24255,\n",
       "         'clear': 16864,\n",
       "         'eyed': 72,\n",
       "         'view': 74350,\n",
       "         'right': 124161,\n",
       "         'wrong': 1338,\n",
       "         'fault': 181,\n",
       "         'divorce': 36,\n",
       "         'infidelity': 8,\n",
       "         'wit': 9347,\n",
       "         'consequence': 38,\n",
       "         'receive': 1746,\n",
       "         'fierce': 488,\n",
       "         'brand': 4965,\n",
       "         'justice': 1405,\n",
       "         'ruth': 1146,\n",
       "         'baker': 562,\n",
       "         'lease': 27209,\n",
       "         'death': 4371,\n",
       "         'classical': 908,\n",
       "         'cat': 7859,\n",
       "         'humor': 1728,\n",
       "         'myt': 782,\n",
       "         'logy': 1673,\n",
       "         'folk': 252,\n",
       "         'rebel': 830,\n",
       "         'battle': 22216,\n",
       "         'bloody': 808,\n",
       "         'redcoat': 37,\n",
       "         'fighting': 10335,\n",
       "         'south': 10938,\n",
       "         'north': 3541,\n",
       "         'civil': 1529,\n",
       "         'suddenly': 693,\n",
       "         'lynch': 4490,\n",
       "         'mob': 392,\n",
       "         'raise': 3522,\n",
       "         'legion': 435,\n",
       "         'confederacy': 52,\n",
       "         'test': 32885,\n",
       "         'limit': 6400,\n",
       "         'quickly': 2013,\n",
       "         'country': 49300,\n",
       "         'unite': 1109,\n",
       "         'violently': 61,\n",
       "         'unforgivingly': 22,\n",
       "         'first': 59768,\n",
       "         'turncoat': 22,\n",
       "         'northerner': 40,\n",
       "         'force': 17960,\n",
       "         'beloved': 618,\n",
       "         'enmity': 28,\n",
       "         'founder': 236,\n",
       "         'catch': 18668,\n",
       "         'double': 12599,\n",
       "         'game': 400073,\n",
       "         'give': 46407,\n",
       "         'c': 95377,\n",
       "         'ice': 21838,\n",
       "         'cell': 69045,\n",
       "         'command': 8558,\n",
       "         'thwart': 343,\n",
       "         'strategy': 28832,\n",
       "         'overwhelm': 58,\n",
       "         'difficult': 1372,\n",
       "         'bluff': 125,\n",
       "         'betrayal': 167,\n",
       "         'effort': 1452,\n",
       "         'return': 171366,\n",
       "         'cost': 3484,\n",
       "         'friend': 11496,\n",
       "         'third': 11904,\n",
       "         'volume': 33956,\n",
       "         'control': 17497,\n",
       "         'confederate': 74,\n",
       "         'southern': 1511,\n",
       "         'cause': 1773,\n",
       "         'survive': 2442,\n",
       "         'rag': 139,\n",
       "         'bitter': 191,\n",
       "         'formidable': 261,\n",
       "         'northern': 1509,\n",
       "         'army': 4311,\n",
       "         'equally': 295,\n",
       "         'would': 10563,\n",
       "         'dead': 13012,\n",
       "         'courage': 312,\n",
       "         'retrieve': 1493,\n",
       "         'murder': 1085,\n",
       "         'die': 1824,\n",
       "         'lie': 233321,\n",
       "         'ford': 3095,\n",
       "         'shake': 1033,\n",
       "         'forever': 1065,\n",
       "         'guilty': 3378,\n",
       "         'thing': 2819,\n",
       "         'chief': 6044,\n",
       "         'gloomy': 96,\n",
       "         'cemetery': 61,\n",
       "         'find': 75002,\n",
       "         'name': 114873,\n",
       "         'else': 156052,\n",
       "         'meanwhile': 480,\n",
       "         'send': 7438,\n",
       "         'rest': 4560,\n",
       "         'alc': 1146,\n",
       "         'ol': 8342,\n",
       "         'rich': 3129,\n",
       "         'criminal': 872,\n",
       "         'investigation': 697,\n",
       "         'onwards': 27,\n",
       "         'vanity': 140,\n",
       "         'demon': 1174,\n",
       "         'archer': 1792,\n",
       "         'matter': 1348,\n",
       "         'nor': 2645,\n",
       "         'crow': 63,\n",
       "         'shall': 3098,\n",
       "         'resident': 5311,\n",
       "         'action': 82599,\n",
       "         'square': 4153,\n",
       "         'million': 13470,\n",
       "         'lifelong': 73,\n",
       "         'king': 15871,\n",
       "         'shady': 80,\n",
       "         'em': 95701,\n",
       "         'oil': 4763,\n",
       "         'bonanza': 68,\n",
       "         'instant': 7502,\n",
       "         'overnight': 107,\n",
       "         'heir': 649,\n",
       "         'earldom': 26,\n",
       "         'bond': 14106,\n",
       "         'dealer': 150,\n",
       "         'day': 94550,\n",
       "         'birth': 9963,\n",
       "         'woman': 1005,\n",
       "         'united': 37532,\n",
       "         'evening': 261,\n",
       "         'learn': 26615,\n",
       "         'lot': 6793,\n",
       "         'kill': 2130,\n",
       "         'threat': 922,\n",
       "         'twist': 1179,\n",
       "         'glow': 327,\n",
       "         'future': 11535,\n",
       "         'old': 24406,\n",
       "         'soldier': 1757,\n",
       "         'full': 41903,\n",
       "         'rea': 326,\n",
       "         'reward': 1343,\n",
       "         'lover': 314,\n",
       "         'loo': 414,\n",
       "         'unabridge': 129,\n",
       "         'quarrel': 35,\n",
       "         'loudly': 54,\n",
       "         'slander': 26,\n",
       "         'everyone': 30269,\n",
       "         'assume': 2303,\n",
       "         'soon': 9420,\n",
       "         'case': 39868,\n",
       "         'damage': 1630,\n",
       "         'aid': 2823,\n",
       "         'laugh': 300,\n",
       "         'lay': 32327,\n",
       "         'labour': 160,\n",
       "         'lose': 9333,\n",
       "         'cast': 2054,\n",
       "         'winter': 4835,\n",
       "         'lear': 62,\n",
       "         'hamlet': 62,\n",
       "         'easy': 8684,\n",
       "         'comedy': 551,\n",
       "         'continental': 433,\n",
       "         'ean': 15788,\n",
       "         'beauty': 4228,\n",
       "         'eye': 7466,\n",
       "         'join': 72096,\n",
       "         'study': 1575,\n",
       "         'foremost': 69,\n",
       "         'amongst': 249,\n",
       "         'forsake': 129,\n",
       "         'oath': 47,\n",
       "         'female': 547,\n",
       "         'arrive': 299,\n",
       "         'di': 6003,\n",
       "         'sight': 632,\n",
       "         'challenge': 12297,\n",
       "         'wooing': 28,\n",
       "         'vow': 222,\n",
       "         'formal': 65,\n",
       "         'sc': 15766,\n",
       "         'larly': 58,\n",
       "         'word': 1569,\n",
       "         'invention': 220,\n",
       "         'demand': 1186,\n",
       "         'sir': 867,\n",
       "         'brett': 167,\n",
       "         'lead': 20879,\n",
       "         'distinguish': 137,\n",
       "         'lively': 139,\n",
       "         'lengthy': 270,\n",
       "         'introduction': 723,\n",
       "         'te': 236879,\n",
       "         'substantial': 164,\n",
       "         'glossary': 67,\n",
       "         'rental': 3035,\n",
       "         'dignify': 26,\n",
       "         'act': 7289,\n",
       "         'scene': 1747,\n",
       "         'delightful': 172,\n",
       "         'verge': 194,\n",
       "         'brilliance': 181,\n",
       "         'rarely': 261,\n",
       "         'ing': 21256,\n",
       "         'voice': 3322,\n",
       "         'ever': 10431,\n",
       "         'live': 40800,\n",
       "         'venerable': 122,\n",
       "         'theme': 3392,\n",
       "         'triangle': 599,\n",
       "         'attendant': 43,\n",
       "         'twelfth': 242,\n",
       "         'talented': 325,\n",
       "         'ca': 5918,\n",
       "         'youthful': 66,\n",
       "         'lyricism': 22,\n",
       "         'already': 3971,\n",
       "         'human': 5336,\n",
       "         'must': 10716,\n",
       "         'alike': 695,\n",
       "         'city': 80551,\n",
       "         'fall': 10590,\n",
       "         'dynasty': 2710,\n",
       "         'white': 32248,\n",
       "         'eighteenth': 36,\n",
       "         'century': 1013,\n",
       "         'nine': 2695,\n",
       "         'search': 114773,\n",
       "         'sacred': 3442,\n",
       "         'modern': 4429,\n",
       "         'age': 165234,\n",
       "         'kali': 7,\n",
       "         'ly': 21976,\n",
       "         'mountain': 733,\n",
       "         'shadow': 7847,\n",
       "         'research': 47174,\n",
       "         'bureaucracy': 21,\n",
       "         'eccentricity': 21,\n",
       "         'insight': 2308,\n",
       "         'fascinating': 347,\n",
       "         'collect': 6099,\n",
       "         'wasteland': 1406,\n",
       "         'heart': 7979,\n",
       "         'remember': 5921,\n",
       "         'os': 46239,\n",
       "         'th': 68373,\n",
       "         'goddard': 174,\n",
       "         'sun': 8453,\n",
       "         'smart': 5070,\n",
       "         'grand': 17472,\n",
       "         'central': 7375,\n",
       "         'station': 872,\n",
       "         'sit': 2449,\n",
       "         'intimate': 38,\n",
       "         'domestic': 614,\n",
       "         'taste': 649,\n",
       "         'ney': 97,\n",
       "         'feast': 149,\n",
       "         'way': 17766,\n",
       "         'want': 14210,\n",
       "         'suck': 286,\n",
       "         'account': 30698,\n",
       "         'intense': 4216,\n",
       "         'barker': 564,\n",
       "         'air': 8411,\n",
       "         'hant': 194,\n",
       "         'webster': 160,\n",
       "         'duchess': 226,\n",
       "         'religious': 248,\n",
       "         'liturgical': 15,\n",
       "         'tragedy': 167,\n",
       "         'used': 1337,\n",
       "         'forbidden': 26,\n",
       "         'remarry': 26,\n",
       "         'steward': 26,\n",
       "         'form': 47437,\n",
       "         'marriage': 270,\n",
       "         'uncover': 630,\n",
       "         'truth': 1094,\n",
       "         'fate': 2447,\n",
       "         'seal': 1170,\n",
       "         'bull': 13192,\n",
       "         'ant': 1610,\n",
       "         'earnest': 63,\n",
       "         'ounds': 102,\n",
       "         'intensely': 35,\n",
       "         'stark': 127,\n",
       "         'detail': 10973,\n",
       "         'greed': 166,\n",
       "         'easily': 1309,\n",
       "         'enlightened': 4,\n",
       "         'revert': 1381,\n",
       "         'savagery': 25,\n",
       "         'set': 71502,\n",
       "         'background': 278563,\n",
       "         'ivory': 232,\n",
       "         'trade': 23128,\n",
       "         'narrator': 449,\n",
       "         'legendary': 5122,\n",
       "         'mystical': 296,\n",
       "         'trader': 791,\n",
       "         'ill': 357,\n",
       "         'quest': 13850,\n",
       "         'harrowing': 271,\n",
       "         'discovery': 629,\n",
       "         'brutality': 183,\n",
       "         'colonial': 186,\n",
       "         'henry': 1661,\n",
       "         'radio': 19006,\n",
       "         'god': 3611,\n",
       "         'son': 3230,\n",
       "         'indirect': 49,\n",
       "         'crook': 19,\n",
       "         'meet': 11637,\n",
       "         'crown': 985,\n",
       "         'troublesome': 142,\n",
       "         'head': 22212,\n",
       "         'thee': 46,\n",
       "         'descend': 143,\n",
       "         'quiet': 289,\n",
       "         'inion': 6965,\n",
       "         'confirmation': 178,\n",
       "         'deal': 11131,\n",
       "         'rebellion': 347,\n",
       "         'scroo': 26,\n",
       "         'hastings': 278,\n",
       "         'eventually': 1040,\n",
       "         'secure': 8120,\n",
       "         'throne': 626,\n",
       "         'late': 41329,\n",
       "         'accession': 19,\n",
       "         'immediately': 824,\n",
       "         'dissolute': 47,\n",
       "         'belief': 307,\n",
       "         'cruelly': 32,\n",
       "         'harry': 3820,\n",
       "         'ire': 5856,\n",
       "         'kindness': 56,\n",
       "         'salesman': 17,\n",
       "         'rise': 27481,\n",
       "         'flamingo': 10,\n",
       "         'crash': 7331,\n",
       "         'anther': 313,\n",
       "         'traveler': 303,\n",
       "         'carl': 227,\n",
       "         'beryl': 8,\n",
       "         'clive': 621,\n",
       "         'alan': 2737,\n",
       "         'bill': 892,\n",
       "         'burgess': 62,\n",
       "         'second': 12023,\n",
       "         'laura': 417,\n",
       "         'hello': 775,\n",
       "         'citizen': 181,\n",
       "         'disc': 3971,\n",
       "         'direction': 1299,\n",
       "         'entertainment': 33661,\n",
       "         'mi': 11765,\n",
       "         'vastly': 157,\n",
       "         'entertaining': 640,\n",
       "         'chronicle': 155,\n",
       "         'ability': 3576,\n",
       "         'skewer': 8,\n",
       "         'subject': 5374,\n",
       "         'retain': 308,\n",
       "         'critical': 963,\n",
       "         'affection': 66,\n",
       "         'fact': 2320,\n",
       "         'actor': 294,\n",
       "         'need': 37738,\n",
       "         'logize': 8,\n",
       "         'innovative': 2119,\n",
       "         'theatrical': 167,\n",
       "         'oft': 47,\n",
       "         'broadcast': 1933,\n",
       "         'gain': 10034,\n",
       "         'dimension': 596,\n",
       "         'intelligent': 650,\n",
       "         'treatment': 659,\n",
       "         'setting': 202,\n",
       "         'legend': 7470,\n",
       "         'throw': 1908,\n",
       "         'around': 18248,\n",
       "         'reveal': 2846,\n",
       "         'fist': 502,\n",
       "         'avenger': 102,\n",
       "         'icon': 13852,\n",
       "         'cobra': 60,\n",
       "         'gulf': 261,\n",
       "         'organization': 807,\n",
       "         'cabinet': 95,\n",
       "         'roam': 473,\n",
       "         'covert': 284,\n",
       "         'ruthless': 652,\n",
       "         'deceiver': 201,\n",
       "         'negotiator': 18,\n",
       "         'sam': 4734,\n",
       "         'service': 38026,\n",
       "         'wever': 3851,\n",
       "         'hear': 792,\n",
       "         'e': 76080,\n",
       "         'grind': 691,\n",
       "         'midden': 4,\n",
       "         'throwback': 180,\n",
       "         'wilt': 192,\n",
       "         'nowhere': 575,\n",
       "         'blue': 7297,\n",
       "         'colly': 4,\n",
       "         'brother': 1700,\n",
       "         'witch': 866,\n",
       "         'blackbird': 22,\n",
       "         'laurel': 19,\n",
       "         'vintage': 146,\n",
       "         'let': 7178,\n",
       "         'yearle': 16,\n",
       "         'ancestral': 20,\n",
       "         'sequel': 4231,\n",
       "         'scullion': 26,\n",
       "         'charge': 1371,\n",
       "         'surround': 796,\n",
       "         'awful': 692,\n",
       "         'inevitable': 301,\n",
       "         'college': 16649,\n",
       "         'riotous': 239,\n",
       "         'assembly': 256,\n",
       "         'indecent': 140,\n",
       "         'collier': 21,\n",
       "         'kite': 32,\n",
       "         'runner': 1568,\n",
       "         'society': 1841,\n",
       "         'black': 19740,\n",
       "         'cook': 760,\n",
       "         'van': 6291,\n",
       "         'within': 6059,\n",
       "         'misguided': 76,\n",
       "         'ower': 16463,\n",
       "         'news': 279050,\n",
       "         'fashionable': 71,\n",
       "         'trend': 1682,\n",
       "         'fingersmith': 4,\n",
       "         'hang': 246,\n",
       "         'golf': 14283,\n",
       "         'core': 17705,\n",
       "         'far': 8436,\n",
       "         'heartland': 62,\n",
       "         'much': 10022,\n",
       "         'truce': 94,\n",
       "         'st': 42587,\n",
       "         'thrawn': 600,\n",
       "         ...})"
      ]
     },
     "execution_count": 228,
     "metadata": {},
     "output_type": "execute_result"
    }
   ],
   "source": [
    "count"
   ]
  },
  {
   "cell_type": "code",
   "execution_count": 229,
   "metadata": {},
   "outputs": [
    {
     "data": {
      "text/plain": [
       "[('document', 898639),\n",
       " ('function', 555236),\n",
       " ('game', 400073),\n",
       " ('write', 366700),\n",
       " ('new', 319442),\n",
       " ('news', 279050),\n",
       " ('background', 278563),\n",
       " ('stock', 241289),\n",
       " ('te', 236879),\n",
       " ('lie', 233321),\n",
       " ('window', 231471),\n",
       " ('margin', 220700),\n",
       " ('null', 218142),\n",
       " ('s', 217736),\n",
       " ('inde', 213088),\n",
       " ('net', 208950),\n",
       " ('dis', 201889),\n",
       " ('er', 192856),\n",
       " ('border', 178909),\n",
       " ('date', 171743),\n",
       " ('return', 171366),\n",
       " ('leave', 167462),\n",
       " ('age', 165234),\n",
       " ('none', 164698),\n",
       " ('me', 161395),\n",
       " ('value', 160662),\n",
       " ('else', 156052),\n",
       " ('layer', 146233),\n",
       " ('li', 144310),\n",
       " ('ort', 139084),\n",
       " ('w', 138733),\n",
       " ('length', 137899),\n",
       " ('video', 137609),\n",
       " ('time', 136529),\n",
       " ('datum', 136083),\n",
       " ('class', 133988),\n",
       " ('true', 133372),\n",
       " ('market', 131420),\n",
       " ('we', 130140),\n",
       " ('ne', 129248),\n",
       " ('get', 124602),\n",
       " ('style', 124413),\n",
       " ('right', 124161),\n",
       " ('world', 123117),\n",
       " ('ad', 118432),\n",
       " ('div', 115350),\n",
       " ('site', 115206),\n",
       " ('name', 114873),\n",
       " ('search', 114773),\n",
       " ('child', 114018),\n",
       " ('image', 110756),\n",
       " ('team', 110060),\n",
       " ('false', 107801),\n",
       " ('solid', 106948),\n",
       " ('en', 106897),\n",
       " ('quote', 102490),\n",
       " ('list', 97504),\n",
       " ('link', 96892),\n",
       " ('tab', 96437),\n",
       " ('em', 95701),\n",
       " ('c', 95377),\n",
       " ('eat', 95154),\n",
       " ('day', 94550),\n",
       " ('rice', 93490),\n",
       " ('content', 92898),\n",
       " ('review', 92106),\n",
       " ('light', 91848),\n",
       " ('add', 89268),\n",
       " ('bottom', 88929),\n",
       " ('use', 88906),\n",
       " ('google', 87579),\n",
       " ('be', 84637),\n",
       " ('number', 84172),\n",
       " ('user', 84009),\n",
       " ('change', 83794),\n",
       " ('mm', 82701),\n",
       " ('action', 82599),\n",
       " ('football', 82225),\n",
       " ('city', 80551),\n",
       " ('league', 78145),\n",
       " ('see', 76336),\n",
       " ('block', 76241),\n",
       " ('el', 76150),\n",
       " ('e', 76080),\n",
       " ('buy', 75499),\n",
       " ('find', 75002),\n",
       " ('view', 74350),\n",
       " ('ref', 73962),\n",
       " ('location', 73141),\n",
       " ('ver', 72695),\n",
       " ('one', 72321),\n",
       " ('join', 72096),\n",
       " ('table', 71914),\n",
       " ('small', 71780),\n",
       " ('set', 71502),\n",
       " ('align', 71442),\n",
       " ('man', 70841),\n",
       " ('es', 70487),\n",
       " ('hide', 69849),\n",
       " ('fi', 69694)]"
      ]
     },
     "execution_count": 229,
     "metadata": {},
     "output_type": "execute_result"
    }
   ],
   "source": [
    "most_freq = count.most_common(100)\n",
    "most_freq"
   ]
  },
  {
   "cell_type": "code",
   "execution_count": 230,
   "metadata": {},
   "outputs": [
    {
     "data": {
      "text/html": [
       "<div>\n",
       "<style scoped>\n",
       "    .dataframe tbody tr th:only-of-type {\n",
       "        vertical-align: middle;\n",
       "    }\n",
       "\n",
       "    .dataframe tbody tr th {\n",
       "        vertical-align: top;\n",
       "    }\n",
       "\n",
       "    .dataframe thead th {\n",
       "        text-align: right;\n",
       "    }\n",
       "</style>\n",
       "<table border=\"1\" class=\"dataframe\">\n",
       "  <thead>\n",
       "    <tr style=\"text-align: right;\">\n",
       "      <th></th>\n",
       "      <th>word</th>\n",
       "      <th>freq</th>\n",
       "    </tr>\n",
       "  </thead>\n",
       "  <tbody>\n",
       "    <tr>\n",
       "      <th>0</th>\n",
       "      <td>document</td>\n",
       "      <td>898639</td>\n",
       "    </tr>\n",
       "    <tr>\n",
       "      <th>1</th>\n",
       "      <td>function</td>\n",
       "      <td>555236</td>\n",
       "    </tr>\n",
       "    <tr>\n",
       "      <th>2</th>\n",
       "      <td>game</td>\n",
       "      <td>400073</td>\n",
       "    </tr>\n",
       "    <tr>\n",
       "      <th>3</th>\n",
       "      <td>write</td>\n",
       "      <td>366700</td>\n",
       "    </tr>\n",
       "    <tr>\n",
       "      <th>4</th>\n",
       "      <td>new</td>\n",
       "      <td>319442</td>\n",
       "    </tr>\n",
       "  </tbody>\n",
       "</table>\n",
       "</div>"
      ],
      "text/plain": [
       "       word    freq\n",
       "0  document  898639\n",
       "1  function  555236\n",
       "2      game  400073\n",
       "3     write  366700\n",
       "4       new  319442"
      ]
     },
     "execution_count": 230,
     "metadata": {},
     "output_type": "execute_result"
    }
   ],
   "source": [
    "df = pd.DataFrame(most_freq, columns=['word', 'freq'])\n",
    "df.head()"
   ]
  },
  {
   "cell_type": "code",
   "execution_count": 231,
   "metadata": {
    "id": "bHX6IXcrDMVO"
   },
   "outputs": [
    {
     "data": {
      "application/vnd.plotly.v1+json": {
       "config": {
        "plotlyServerURL": "https://plot.ly"
       },
       "data": [
        {
         "alignmentgroup": "True",
         "bingroup": "x",
         "histfunc": "sum",
         "hovertemplate": "word=%{x}<br>sum of freq=%{y}<extra></extra>",
         "legendgroup": "",
         "marker": {
          "color": "#636efa",
          "pattern": {
           "shape": ""
          }
         },
         "name": "",
         "offsetgroup": "",
         "orientation": "v",
         "showlegend": false,
         "type": "histogram",
         "x": [
          "document",
          "function",
          "game",
          "write",
          "new",
          "news",
          "background",
          "stock",
          "te",
          "lie",
          "window",
          "margin",
          "null",
          "s",
          "inde",
          "net",
          "dis",
          "er",
          "border",
          "date",
          "return",
          "leave",
          "age",
          "none",
          "me",
          "value",
          "else",
          "layer",
          "li",
          "ort",
          "w",
          "length",
          "video",
          "time",
          "datum",
          "class",
          "true",
          "market",
          "we",
          "ne",
          "get",
          "style",
          "right",
          "world",
          "ad",
          "div",
          "site",
          "name",
          "search",
          "child",
          "image",
          "team",
          "false",
          "solid",
          "en",
          "quote",
          "list",
          "link",
          "tab",
          "em",
          "c",
          "eat",
          "day",
          "rice",
          "content",
          "review",
          "light",
          "add",
          "bottom",
          "use",
          "google",
          "be",
          "number",
          "user",
          "change",
          "mm",
          "action",
          "football",
          "city",
          "league",
          "see",
          "block",
          "el",
          "e",
          "buy",
          "find",
          "view",
          "ref",
          "location",
          "ver",
          "one",
          "join",
          "table",
          "small",
          "set",
          "align",
          "man",
          "es",
          "hide",
          "fi"
         ],
         "xaxis": "x",
         "y": [
          898639,
          555236,
          400073,
          366700,
          319442,
          279050,
          278563,
          241289,
          236879,
          233321,
          231471,
          220700,
          218142,
          217736,
          213088,
          208950,
          201889,
          192856,
          178909,
          171743,
          171366,
          167462,
          165234,
          164698,
          161395,
          160662,
          156052,
          146233,
          144310,
          139084,
          138733,
          137899,
          137609,
          136529,
          136083,
          133988,
          133372,
          131420,
          130140,
          129248,
          124602,
          124413,
          124161,
          123117,
          118432,
          115350,
          115206,
          114873,
          114773,
          114018,
          110756,
          110060,
          107801,
          106948,
          106897,
          102490,
          97504,
          96892,
          96437,
          95701,
          95377,
          95154,
          94550,
          93490,
          92898,
          92106,
          91848,
          89268,
          88929,
          88906,
          87579,
          84637,
          84172,
          84009,
          83794,
          82701,
          82599,
          82225,
          80551,
          78145,
          76336,
          76241,
          76150,
          76080,
          75499,
          75002,
          74350,
          73962,
          73141,
          72695,
          72321,
          72096,
          71914,
          71780,
          71502,
          71442,
          70841,
          70487,
          69849,
          69694
         ],
         "yaxis": "y"
        }
       ],
       "layout": {
        "barmode": "relative",
        "height": 400,
        "legend": {
         "tracegroupgap": 0
        },
        "margin": {
         "t": 60
        },
        "template": {
         "data": {
          "bar": [
           {
            "error_x": {
             "color": "#2a3f5f"
            },
            "error_y": {
             "color": "#2a3f5f"
            },
            "marker": {
             "line": {
              "color": "#E5ECF6",
              "width": 0.5
             },
             "pattern": {
              "fillmode": "overlay",
              "size": 10,
              "solidity": 0.2
             }
            },
            "type": "bar"
           }
          ],
          "barpolar": [
           {
            "marker": {
             "line": {
              "color": "#E5ECF6",
              "width": 0.5
             },
             "pattern": {
              "fillmode": "overlay",
              "size": 10,
              "solidity": 0.2
             }
            },
            "type": "barpolar"
           }
          ],
          "carpet": [
           {
            "aaxis": {
             "endlinecolor": "#2a3f5f",
             "gridcolor": "white",
             "linecolor": "white",
             "minorgridcolor": "white",
             "startlinecolor": "#2a3f5f"
            },
            "baxis": {
             "endlinecolor": "#2a3f5f",
             "gridcolor": "white",
             "linecolor": "white",
             "minorgridcolor": "white",
             "startlinecolor": "#2a3f5f"
            },
            "type": "carpet"
           }
          ],
          "choropleth": [
           {
            "colorbar": {
             "outlinewidth": 0,
             "ticks": ""
            },
            "type": "choropleth"
           }
          ],
          "contour": [
           {
            "colorbar": {
             "outlinewidth": 0,
             "ticks": ""
            },
            "colorscale": [
             [
              0,
              "#0d0887"
             ],
             [
              0.1111111111111111,
              "#46039f"
             ],
             [
              0.2222222222222222,
              "#7201a8"
             ],
             [
              0.3333333333333333,
              "#9c179e"
             ],
             [
              0.4444444444444444,
              "#bd3786"
             ],
             [
              0.5555555555555556,
              "#d8576b"
             ],
             [
              0.6666666666666666,
              "#ed7953"
             ],
             [
              0.7777777777777778,
              "#fb9f3a"
             ],
             [
              0.8888888888888888,
              "#fdca26"
             ],
             [
              1,
              "#f0f921"
             ]
            ],
            "type": "contour"
           }
          ],
          "contourcarpet": [
           {
            "colorbar": {
             "outlinewidth": 0,
             "ticks": ""
            },
            "type": "contourcarpet"
           }
          ],
          "heatmap": [
           {
            "colorbar": {
             "outlinewidth": 0,
             "ticks": ""
            },
            "colorscale": [
             [
              0,
              "#0d0887"
             ],
             [
              0.1111111111111111,
              "#46039f"
             ],
             [
              0.2222222222222222,
              "#7201a8"
             ],
             [
              0.3333333333333333,
              "#9c179e"
             ],
             [
              0.4444444444444444,
              "#bd3786"
             ],
             [
              0.5555555555555556,
              "#d8576b"
             ],
             [
              0.6666666666666666,
              "#ed7953"
             ],
             [
              0.7777777777777778,
              "#fb9f3a"
             ],
             [
              0.8888888888888888,
              "#fdca26"
             ],
             [
              1,
              "#f0f921"
             ]
            ],
            "type": "heatmap"
           }
          ],
          "heatmapgl": [
           {
            "colorbar": {
             "outlinewidth": 0,
             "ticks": ""
            },
            "colorscale": [
             [
              0,
              "#0d0887"
             ],
             [
              0.1111111111111111,
              "#46039f"
             ],
             [
              0.2222222222222222,
              "#7201a8"
             ],
             [
              0.3333333333333333,
              "#9c179e"
             ],
             [
              0.4444444444444444,
              "#bd3786"
             ],
             [
              0.5555555555555556,
              "#d8576b"
             ],
             [
              0.6666666666666666,
              "#ed7953"
             ],
             [
              0.7777777777777778,
              "#fb9f3a"
             ],
             [
              0.8888888888888888,
              "#fdca26"
             ],
             [
              1,
              "#f0f921"
             ]
            ],
            "type": "heatmapgl"
           }
          ],
          "histogram": [
           {
            "marker": {
             "pattern": {
              "fillmode": "overlay",
              "size": 10,
              "solidity": 0.2
             }
            },
            "type": "histogram"
           }
          ],
          "histogram2d": [
           {
            "colorbar": {
             "outlinewidth": 0,
             "ticks": ""
            },
            "colorscale": [
             [
              0,
              "#0d0887"
             ],
             [
              0.1111111111111111,
              "#46039f"
             ],
             [
              0.2222222222222222,
              "#7201a8"
             ],
             [
              0.3333333333333333,
              "#9c179e"
             ],
             [
              0.4444444444444444,
              "#bd3786"
             ],
             [
              0.5555555555555556,
              "#d8576b"
             ],
             [
              0.6666666666666666,
              "#ed7953"
             ],
             [
              0.7777777777777778,
              "#fb9f3a"
             ],
             [
              0.8888888888888888,
              "#fdca26"
             ],
             [
              1,
              "#f0f921"
             ]
            ],
            "type": "histogram2d"
           }
          ],
          "histogram2dcontour": [
           {
            "colorbar": {
             "outlinewidth": 0,
             "ticks": ""
            },
            "colorscale": [
             [
              0,
              "#0d0887"
             ],
             [
              0.1111111111111111,
              "#46039f"
             ],
             [
              0.2222222222222222,
              "#7201a8"
             ],
             [
              0.3333333333333333,
              "#9c179e"
             ],
             [
              0.4444444444444444,
              "#bd3786"
             ],
             [
              0.5555555555555556,
              "#d8576b"
             ],
             [
              0.6666666666666666,
              "#ed7953"
             ],
             [
              0.7777777777777778,
              "#fb9f3a"
             ],
             [
              0.8888888888888888,
              "#fdca26"
             ],
             [
              1,
              "#f0f921"
             ]
            ],
            "type": "histogram2dcontour"
           }
          ],
          "mesh3d": [
           {
            "colorbar": {
             "outlinewidth": 0,
             "ticks": ""
            },
            "type": "mesh3d"
           }
          ],
          "parcoords": [
           {
            "line": {
             "colorbar": {
              "outlinewidth": 0,
              "ticks": ""
             }
            },
            "type": "parcoords"
           }
          ],
          "pie": [
           {
            "automargin": true,
            "type": "pie"
           }
          ],
          "scatter": [
           {
            "marker": {
             "colorbar": {
              "outlinewidth": 0,
              "ticks": ""
             }
            },
            "type": "scatter"
           }
          ],
          "scatter3d": [
           {
            "line": {
             "colorbar": {
              "outlinewidth": 0,
              "ticks": ""
             }
            },
            "marker": {
             "colorbar": {
              "outlinewidth": 0,
              "ticks": ""
             }
            },
            "type": "scatter3d"
           }
          ],
          "scattercarpet": [
           {
            "marker": {
             "colorbar": {
              "outlinewidth": 0,
              "ticks": ""
             }
            },
            "type": "scattercarpet"
           }
          ],
          "scattergeo": [
           {
            "marker": {
             "colorbar": {
              "outlinewidth": 0,
              "ticks": ""
             }
            },
            "type": "scattergeo"
           }
          ],
          "scattergl": [
           {
            "marker": {
             "colorbar": {
              "outlinewidth": 0,
              "ticks": ""
             }
            },
            "type": "scattergl"
           }
          ],
          "scattermapbox": [
           {
            "marker": {
             "colorbar": {
              "outlinewidth": 0,
              "ticks": ""
             }
            },
            "type": "scattermapbox"
           }
          ],
          "scatterpolar": [
           {
            "marker": {
             "colorbar": {
              "outlinewidth": 0,
              "ticks": ""
             }
            },
            "type": "scatterpolar"
           }
          ],
          "scatterpolargl": [
           {
            "marker": {
             "colorbar": {
              "outlinewidth": 0,
              "ticks": ""
             }
            },
            "type": "scatterpolargl"
           }
          ],
          "scatterternary": [
           {
            "marker": {
             "colorbar": {
              "outlinewidth": 0,
              "ticks": ""
             }
            },
            "type": "scatterternary"
           }
          ],
          "surface": [
           {
            "colorbar": {
             "outlinewidth": 0,
             "ticks": ""
            },
            "colorscale": [
             [
              0,
              "#0d0887"
             ],
             [
              0.1111111111111111,
              "#46039f"
             ],
             [
              0.2222222222222222,
              "#7201a8"
             ],
             [
              0.3333333333333333,
              "#9c179e"
             ],
             [
              0.4444444444444444,
              "#bd3786"
             ],
             [
              0.5555555555555556,
              "#d8576b"
             ],
             [
              0.6666666666666666,
              "#ed7953"
             ],
             [
              0.7777777777777778,
              "#fb9f3a"
             ],
             [
              0.8888888888888888,
              "#fdca26"
             ],
             [
              1,
              "#f0f921"
             ]
            ],
            "type": "surface"
           }
          ],
          "table": [
           {
            "cells": {
             "fill": {
              "color": "#EBF0F8"
             },
             "line": {
              "color": "white"
             }
            },
            "header": {
             "fill": {
              "color": "#C8D4E3"
             },
             "line": {
              "color": "white"
             }
            },
            "type": "table"
           }
          ]
         },
         "layout": {
          "annotationdefaults": {
           "arrowcolor": "#2a3f5f",
           "arrowhead": 0,
           "arrowwidth": 1
          },
          "autotypenumbers": "strict",
          "coloraxis": {
           "colorbar": {
            "outlinewidth": 0,
            "ticks": ""
           }
          },
          "colorscale": {
           "diverging": [
            [
             0,
             "#8e0152"
            ],
            [
             0.1,
             "#c51b7d"
            ],
            [
             0.2,
             "#de77ae"
            ],
            [
             0.3,
             "#f1b6da"
            ],
            [
             0.4,
             "#fde0ef"
            ],
            [
             0.5,
             "#f7f7f7"
            ],
            [
             0.6,
             "#e6f5d0"
            ],
            [
             0.7,
             "#b8e186"
            ],
            [
             0.8,
             "#7fbc41"
            ],
            [
             0.9,
             "#4d9221"
            ],
            [
             1,
             "#276419"
            ]
           ],
           "sequential": [
            [
             0,
             "#0d0887"
            ],
            [
             0.1111111111111111,
             "#46039f"
            ],
            [
             0.2222222222222222,
             "#7201a8"
            ],
            [
             0.3333333333333333,
             "#9c179e"
            ],
            [
             0.4444444444444444,
             "#bd3786"
            ],
            [
             0.5555555555555556,
             "#d8576b"
            ],
            [
             0.6666666666666666,
             "#ed7953"
            ],
            [
             0.7777777777777778,
             "#fb9f3a"
            ],
            [
             0.8888888888888888,
             "#fdca26"
            ],
            [
             1,
             "#f0f921"
            ]
           ],
           "sequentialminus": [
            [
             0,
             "#0d0887"
            ],
            [
             0.1111111111111111,
             "#46039f"
            ],
            [
             0.2222222222222222,
             "#7201a8"
            ],
            [
             0.3333333333333333,
             "#9c179e"
            ],
            [
             0.4444444444444444,
             "#bd3786"
            ],
            [
             0.5555555555555556,
             "#d8576b"
            ],
            [
             0.6666666666666666,
             "#ed7953"
            ],
            [
             0.7777777777777778,
             "#fb9f3a"
            ],
            [
             0.8888888888888888,
             "#fdca26"
            ],
            [
             1,
             "#f0f921"
            ]
           ]
          },
          "colorway": [
           "#636efa",
           "#EF553B",
           "#00cc96",
           "#ab63fa",
           "#FFA15A",
           "#19d3f3",
           "#FF6692",
           "#B6E880",
           "#FF97FF",
           "#FECB52"
          ],
          "font": {
           "color": "#2a3f5f"
          },
          "geo": {
           "bgcolor": "white",
           "lakecolor": "white",
           "landcolor": "#E5ECF6",
           "showlakes": true,
           "showland": true,
           "subunitcolor": "white"
          },
          "hoverlabel": {
           "align": "left"
          },
          "hovermode": "closest",
          "mapbox": {
           "style": "light"
          },
          "paper_bgcolor": "white",
          "plot_bgcolor": "#E5ECF6",
          "polar": {
           "angularaxis": {
            "gridcolor": "white",
            "linecolor": "white",
            "ticks": ""
           },
           "bgcolor": "#E5ECF6",
           "radialaxis": {
            "gridcolor": "white",
            "linecolor": "white",
            "ticks": ""
           }
          },
          "scene": {
           "xaxis": {
            "backgroundcolor": "#E5ECF6",
            "gridcolor": "white",
            "gridwidth": 2,
            "linecolor": "white",
            "showbackground": true,
            "ticks": "",
            "zerolinecolor": "white"
           },
           "yaxis": {
            "backgroundcolor": "#E5ECF6",
            "gridcolor": "white",
            "gridwidth": 2,
            "linecolor": "white",
            "showbackground": true,
            "ticks": "",
            "zerolinecolor": "white"
           },
           "zaxis": {
            "backgroundcolor": "#E5ECF6",
            "gridcolor": "white",
            "gridwidth": 2,
            "linecolor": "white",
            "showbackground": true,
            "ticks": "",
            "zerolinecolor": "white"
           }
          },
          "shapedefaults": {
           "line": {
            "color": "#2a3f5f"
           }
          },
          "ternary": {
           "aaxis": {
            "gridcolor": "white",
            "linecolor": "white",
            "ticks": ""
           },
           "baxis": {
            "gridcolor": "white",
            "linecolor": "white",
            "ticks": ""
           },
           "bgcolor": "#E5ECF6",
           "caxis": {
            "gridcolor": "white",
            "linecolor": "white",
            "ticks": ""
           }
          },
          "title": {
           "x": 0.05
          },
          "xaxis": {
           "automargin": true,
           "gridcolor": "white",
           "linecolor": "white",
           "ticks": "",
           "title": {
            "standoff": 15
           },
           "zerolinecolor": "white",
           "zerolinewidth": 2
          },
          "yaxis": {
           "automargin": true,
           "gridcolor": "white",
           "linecolor": "white",
           "ticks": "",
           "title": {
            "standoff": 15
           },
           "zerolinecolor": "white",
           "zerolinewidth": 2
          }
         }
        },
        "width": 800,
        "xaxis": {
         "anchor": "y",
         "domain": [
          0,
          1
         ],
         "title": {
          "text": "word"
         }
        },
        "yaxis": {
         "anchor": "x",
         "domain": [
          0,
          1
         ],
         "title": {
          "text": "sum of freq"
         }
        }
       }
      },
      "text/html": [
       "<div>                            <div id=\"aebc0357-b833-4249-add8-9370d32fa606\" class=\"plotly-graph-div\" style=\"height:400px; width:800px;\"></div>            <script type=\"text/javascript\">                require([\"plotly\"], function(Plotly) {                    window.PLOTLYENV=window.PLOTLYENV || {};                                    if (document.getElementById(\"aebc0357-b833-4249-add8-9370d32fa606\")) {                    Plotly.newPlot(                        \"aebc0357-b833-4249-add8-9370d32fa606\",                        [{\"alignmentgroup\":\"True\",\"bingroup\":\"x\",\"histfunc\":\"sum\",\"hovertemplate\":\"word=%{x}<br>sum of freq=%{y}<extra></extra>\",\"legendgroup\":\"\",\"marker\":{\"color\":\"#636efa\",\"pattern\":{\"shape\":\"\"}},\"name\":\"\",\"offsetgroup\":\"\",\"orientation\":\"v\",\"showlegend\":false,\"x\":[\"document\",\"function\",\"game\",\"write\",\"new\",\"news\",\"background\",\"stock\",\"te\",\"lie\",\"window\",\"margin\",\"null\",\"s\",\"inde\",\"net\",\"dis\",\"er\",\"border\",\"date\",\"return\",\"leave\",\"age\",\"none\",\"me\",\"value\",\"else\",\"layer\",\"li\",\"ort\",\"w\",\"length\",\"video\",\"time\",\"datum\",\"class\",\"true\",\"market\",\"we\",\"ne\",\"get\",\"style\",\"right\",\"world\",\"ad\",\"div\",\"site\",\"name\",\"search\",\"child\",\"image\",\"team\",\"false\",\"solid\",\"en\",\"quote\",\"list\",\"link\",\"tab\",\"em\",\"c\",\"eat\",\"day\",\"rice\",\"content\",\"review\",\"light\",\"add\",\"bottom\",\"use\",\"google\",\"be\",\"number\",\"user\",\"change\",\"mm\",\"action\",\"football\",\"city\",\"league\",\"see\",\"block\",\"el\",\"e\",\"buy\",\"find\",\"view\",\"ref\",\"location\",\"ver\",\"one\",\"join\",\"table\",\"small\",\"set\",\"align\",\"man\",\"es\",\"hide\",\"fi\"],\"xaxis\":\"x\",\"y\":[898639,555236,400073,366700,319442,279050,278563,241289,236879,233321,231471,220700,218142,217736,213088,208950,201889,192856,178909,171743,171366,167462,165234,164698,161395,160662,156052,146233,144310,139084,138733,137899,137609,136529,136083,133988,133372,131420,130140,129248,124602,124413,124161,123117,118432,115350,115206,114873,114773,114018,110756,110060,107801,106948,106897,102490,97504,96892,96437,95701,95377,95154,94550,93490,92898,92106,91848,89268,88929,88906,87579,84637,84172,84009,83794,82701,82599,82225,80551,78145,76336,76241,76150,76080,75499,75002,74350,73962,73141,72695,72321,72096,71914,71780,71502,71442,70841,70487,69849,69694],\"yaxis\":\"y\",\"type\":\"histogram\"}],                        {\"template\":{\"data\":{\"bar\":[{\"error_x\":{\"color\":\"#2a3f5f\"},\"error_y\":{\"color\":\"#2a3f5f\"},\"marker\":{\"line\":{\"color\":\"#E5ECF6\",\"width\":0.5},\"pattern\":{\"fillmode\":\"overlay\",\"size\":10,\"solidity\":0.2}},\"type\":\"bar\"}],\"barpolar\":[{\"marker\":{\"line\":{\"color\":\"#E5ECF6\",\"width\":0.5},\"pattern\":{\"fillmode\":\"overlay\",\"size\":10,\"solidity\":0.2}},\"type\":\"barpolar\"}],\"carpet\":[{\"aaxis\":{\"endlinecolor\":\"#2a3f5f\",\"gridcolor\":\"white\",\"linecolor\":\"white\",\"minorgridcolor\":\"white\",\"startlinecolor\":\"#2a3f5f\"},\"baxis\":{\"endlinecolor\":\"#2a3f5f\",\"gridcolor\":\"white\",\"linecolor\":\"white\",\"minorgridcolor\":\"white\",\"startlinecolor\":\"#2a3f5f\"},\"type\":\"carpet\"}],\"choropleth\":[{\"colorbar\":{\"outlinewidth\":0,\"ticks\":\"\"},\"type\":\"choropleth\"}],\"contour\":[{\"colorbar\":{\"outlinewidth\":0,\"ticks\":\"\"},\"colorscale\":[[0.0,\"#0d0887\"],[0.1111111111111111,\"#46039f\"],[0.2222222222222222,\"#7201a8\"],[0.3333333333333333,\"#9c179e\"],[0.4444444444444444,\"#bd3786\"],[0.5555555555555556,\"#d8576b\"],[0.6666666666666666,\"#ed7953\"],[0.7777777777777778,\"#fb9f3a\"],[0.8888888888888888,\"#fdca26\"],[1.0,\"#f0f921\"]],\"type\":\"contour\"}],\"contourcarpet\":[{\"colorbar\":{\"outlinewidth\":0,\"ticks\":\"\"},\"type\":\"contourcarpet\"}],\"heatmap\":[{\"colorbar\":{\"outlinewidth\":0,\"ticks\":\"\"},\"colorscale\":[[0.0,\"#0d0887\"],[0.1111111111111111,\"#46039f\"],[0.2222222222222222,\"#7201a8\"],[0.3333333333333333,\"#9c179e\"],[0.4444444444444444,\"#bd3786\"],[0.5555555555555556,\"#d8576b\"],[0.6666666666666666,\"#ed7953\"],[0.7777777777777778,\"#fb9f3a\"],[0.8888888888888888,\"#fdca26\"],[1.0,\"#f0f921\"]],\"type\":\"heatmap\"}],\"heatmapgl\":[{\"colorbar\":{\"outlinewidth\":0,\"ticks\":\"\"},\"colorscale\":[[0.0,\"#0d0887\"],[0.1111111111111111,\"#46039f\"],[0.2222222222222222,\"#7201a8\"],[0.3333333333333333,\"#9c179e\"],[0.4444444444444444,\"#bd3786\"],[0.5555555555555556,\"#d8576b\"],[0.6666666666666666,\"#ed7953\"],[0.7777777777777778,\"#fb9f3a\"],[0.8888888888888888,\"#fdca26\"],[1.0,\"#f0f921\"]],\"type\":\"heatmapgl\"}],\"histogram\":[{\"marker\":{\"pattern\":{\"fillmode\":\"overlay\",\"size\":10,\"solidity\":0.2}},\"type\":\"histogram\"}],\"histogram2d\":[{\"colorbar\":{\"outlinewidth\":0,\"ticks\":\"\"},\"colorscale\":[[0.0,\"#0d0887\"],[0.1111111111111111,\"#46039f\"],[0.2222222222222222,\"#7201a8\"],[0.3333333333333333,\"#9c179e\"],[0.4444444444444444,\"#bd3786\"],[0.5555555555555556,\"#d8576b\"],[0.6666666666666666,\"#ed7953\"],[0.7777777777777778,\"#fb9f3a\"],[0.8888888888888888,\"#fdca26\"],[1.0,\"#f0f921\"]],\"type\":\"histogram2d\"}],\"histogram2dcontour\":[{\"colorbar\":{\"outlinewidth\":0,\"ticks\":\"\"},\"colorscale\":[[0.0,\"#0d0887\"],[0.1111111111111111,\"#46039f\"],[0.2222222222222222,\"#7201a8\"],[0.3333333333333333,\"#9c179e\"],[0.4444444444444444,\"#bd3786\"],[0.5555555555555556,\"#d8576b\"],[0.6666666666666666,\"#ed7953\"],[0.7777777777777778,\"#fb9f3a\"],[0.8888888888888888,\"#fdca26\"],[1.0,\"#f0f921\"]],\"type\":\"histogram2dcontour\"}],\"mesh3d\":[{\"colorbar\":{\"outlinewidth\":0,\"ticks\":\"\"},\"type\":\"mesh3d\"}],\"parcoords\":[{\"line\":{\"colorbar\":{\"outlinewidth\":0,\"ticks\":\"\"}},\"type\":\"parcoords\"}],\"pie\":[{\"automargin\":true,\"type\":\"pie\"}],\"scatter\":[{\"marker\":{\"colorbar\":{\"outlinewidth\":0,\"ticks\":\"\"}},\"type\":\"scatter\"}],\"scatter3d\":[{\"line\":{\"colorbar\":{\"outlinewidth\":0,\"ticks\":\"\"}},\"marker\":{\"colorbar\":{\"outlinewidth\":0,\"ticks\":\"\"}},\"type\":\"scatter3d\"}],\"scattercarpet\":[{\"marker\":{\"colorbar\":{\"outlinewidth\":0,\"ticks\":\"\"}},\"type\":\"scattercarpet\"}],\"scattergeo\":[{\"marker\":{\"colorbar\":{\"outlinewidth\":0,\"ticks\":\"\"}},\"type\":\"scattergeo\"}],\"scattergl\":[{\"marker\":{\"colorbar\":{\"outlinewidth\":0,\"ticks\":\"\"}},\"type\":\"scattergl\"}],\"scattermapbox\":[{\"marker\":{\"colorbar\":{\"outlinewidth\":0,\"ticks\":\"\"}},\"type\":\"scattermapbox\"}],\"scatterpolar\":[{\"marker\":{\"colorbar\":{\"outlinewidth\":0,\"ticks\":\"\"}},\"type\":\"scatterpolar\"}],\"scatterpolargl\":[{\"marker\":{\"colorbar\":{\"outlinewidth\":0,\"ticks\":\"\"}},\"type\":\"scatterpolargl\"}],\"scatterternary\":[{\"marker\":{\"colorbar\":{\"outlinewidth\":0,\"ticks\":\"\"}},\"type\":\"scatterternary\"}],\"surface\":[{\"colorbar\":{\"outlinewidth\":0,\"ticks\":\"\"},\"colorscale\":[[0.0,\"#0d0887\"],[0.1111111111111111,\"#46039f\"],[0.2222222222222222,\"#7201a8\"],[0.3333333333333333,\"#9c179e\"],[0.4444444444444444,\"#bd3786\"],[0.5555555555555556,\"#d8576b\"],[0.6666666666666666,\"#ed7953\"],[0.7777777777777778,\"#fb9f3a\"],[0.8888888888888888,\"#fdca26\"],[1.0,\"#f0f921\"]],\"type\":\"surface\"}],\"table\":[{\"cells\":{\"fill\":{\"color\":\"#EBF0F8\"},\"line\":{\"color\":\"white\"}},\"header\":{\"fill\":{\"color\":\"#C8D4E3\"},\"line\":{\"color\":\"white\"}},\"type\":\"table\"}]},\"layout\":{\"annotationdefaults\":{\"arrowcolor\":\"#2a3f5f\",\"arrowhead\":0,\"arrowwidth\":1},\"autotypenumbers\":\"strict\",\"coloraxis\":{\"colorbar\":{\"outlinewidth\":0,\"ticks\":\"\"}},\"colorscale\":{\"diverging\":[[0,\"#8e0152\"],[0.1,\"#c51b7d\"],[0.2,\"#de77ae\"],[0.3,\"#f1b6da\"],[0.4,\"#fde0ef\"],[0.5,\"#f7f7f7\"],[0.6,\"#e6f5d0\"],[0.7,\"#b8e186\"],[0.8,\"#7fbc41\"],[0.9,\"#4d9221\"],[1,\"#276419\"]],\"sequential\":[[0.0,\"#0d0887\"],[0.1111111111111111,\"#46039f\"],[0.2222222222222222,\"#7201a8\"],[0.3333333333333333,\"#9c179e\"],[0.4444444444444444,\"#bd3786\"],[0.5555555555555556,\"#d8576b\"],[0.6666666666666666,\"#ed7953\"],[0.7777777777777778,\"#fb9f3a\"],[0.8888888888888888,\"#fdca26\"],[1.0,\"#f0f921\"]],\"sequentialminus\":[[0.0,\"#0d0887\"],[0.1111111111111111,\"#46039f\"],[0.2222222222222222,\"#7201a8\"],[0.3333333333333333,\"#9c179e\"],[0.4444444444444444,\"#bd3786\"],[0.5555555555555556,\"#d8576b\"],[0.6666666666666666,\"#ed7953\"],[0.7777777777777778,\"#fb9f3a\"],[0.8888888888888888,\"#fdca26\"],[1.0,\"#f0f921\"]]},\"colorway\":[\"#636efa\",\"#EF553B\",\"#00cc96\",\"#ab63fa\",\"#FFA15A\",\"#19d3f3\",\"#FF6692\",\"#B6E880\",\"#FF97FF\",\"#FECB52\"],\"font\":{\"color\":\"#2a3f5f\"},\"geo\":{\"bgcolor\":\"white\",\"lakecolor\":\"white\",\"landcolor\":\"#E5ECF6\",\"showlakes\":true,\"showland\":true,\"subunitcolor\":\"white\"},\"hoverlabel\":{\"align\":\"left\"},\"hovermode\":\"closest\",\"mapbox\":{\"style\":\"light\"},\"paper_bgcolor\":\"white\",\"plot_bgcolor\":\"#E5ECF6\",\"polar\":{\"angularaxis\":{\"gridcolor\":\"white\",\"linecolor\":\"white\",\"ticks\":\"\"},\"bgcolor\":\"#E5ECF6\",\"radialaxis\":{\"gridcolor\":\"white\",\"linecolor\":\"white\",\"ticks\":\"\"}},\"scene\":{\"xaxis\":{\"backgroundcolor\":\"#E5ECF6\",\"gridcolor\":\"white\",\"gridwidth\":2,\"linecolor\":\"white\",\"showbackground\":true,\"ticks\":\"\",\"zerolinecolor\":\"white\"},\"yaxis\":{\"backgroundcolor\":\"#E5ECF6\",\"gridcolor\":\"white\",\"gridwidth\":2,\"linecolor\":\"white\",\"showbackground\":true,\"ticks\":\"\",\"zerolinecolor\":\"white\"},\"zaxis\":{\"backgroundcolor\":\"#E5ECF6\",\"gridcolor\":\"white\",\"gridwidth\":2,\"linecolor\":\"white\",\"showbackground\":true,\"ticks\":\"\",\"zerolinecolor\":\"white\"}},\"shapedefaults\":{\"line\":{\"color\":\"#2a3f5f\"}},\"ternary\":{\"aaxis\":{\"gridcolor\":\"white\",\"linecolor\":\"white\",\"ticks\":\"\"},\"baxis\":{\"gridcolor\":\"white\",\"linecolor\":\"white\",\"ticks\":\"\"},\"bgcolor\":\"#E5ECF6\",\"caxis\":{\"gridcolor\":\"white\",\"linecolor\":\"white\",\"ticks\":\"\"}},\"title\":{\"x\":0.05},\"xaxis\":{\"automargin\":true,\"gridcolor\":\"white\",\"linecolor\":\"white\",\"ticks\":\"\",\"title\":{\"standoff\":15},\"zerolinecolor\":\"white\",\"zerolinewidth\":2},\"yaxis\":{\"automargin\":true,\"gridcolor\":\"white\",\"linecolor\":\"white\",\"ticks\":\"\",\"title\":{\"standoff\":15},\"zerolinecolor\":\"white\",\"zerolinewidth\":2}}},\"xaxis\":{\"anchor\":\"y\",\"domain\":[0.0,1.0],\"title\":{\"text\":\"word\"}},\"yaxis\":{\"anchor\":\"x\",\"domain\":[0.0,1.0],\"title\":{\"text\":\"sum of freq\"}},\"legend\":{\"tracegroupgap\":0},\"margin\":{\"t\":60},\"barmode\":\"relative\",\"height\":400,\"width\":800},                        {\"responsive\": true}                    ).then(function(){\n",
       "                            \n",
       "var gd = document.getElementById('aebc0357-b833-4249-add8-9370d32fa606');\n",
       "var x = new MutationObserver(function (mutations, observer) {{\n",
       "        var display = window.getComputedStyle(gd).display;\n",
       "        if (!display || display === 'none') {{\n",
       "            console.log([gd, 'removed!']);\n",
       "            Plotly.purge(gd);\n",
       "            observer.disconnect();\n",
       "        }}\n",
       "}});\n",
       "\n",
       "// Listen for the removal of the full notebook cells\n",
       "var notebookContainer = gd.closest('#notebook-container');\n",
       "if (notebookContainer) {{\n",
       "    x.observe(notebookContainer, {childList: true});\n",
       "}}\n",
       "\n",
       "// Listen for the clearing of the current output cell\n",
       "var outputEl = gd.closest('.output');\n",
       "if (outputEl) {{\n",
       "    x.observe(outputEl, {childList: true});\n",
       "}}\n",
       "\n",
       "                        })                };                });            </script>        </div>"
      ]
     },
     "metadata": {},
     "output_type": "display_data"
    }
   ],
   "source": [
    "import plotly.express as px\n",
    "\n",
    "fig = px.histogram(df, x='word', y='freq', width=800, height=400)\n",
    "fig.show()"
   ]
  },
  {
   "cell_type": "markdown",
   "metadata": {
    "id": "5ZxcPfLTDMVO"
   },
   "source": [
    "#### Provide examples of processed text (some parts)\n",
    "\n",
    "Is everything all right with the result of cleaning these examples? What kind of information was lost?"
   ]
  },
  {
   "cell_type": "code",
   "execution_count": null,
   "metadata": {
    "id": "2BSMfa9lDMVP"
   },
   "outputs": [],
   "source": []
  },
  {
   "cell_type": "code",
   "execution_count": null,
   "metadata": {
    "id": "0xn6XK7UDMVP"
   },
   "outputs": [],
   "source": []
  },
  {
   "cell_type": "markdown",
   "metadata": {
    "id": "IlSeYg4sDMVQ"
   },
   "source": [
    "# [10 points] Part 2. Duplicates detection. LSH"
   ]
  },
  {
   "cell_type": "markdown",
   "metadata": {
    "id": "ZuMBHSiDDMVR"
   },
   "source": [
    "#### Libraries you can use\n",
    "\n",
    "1. LSH - https://github.com/ekzhu/datasketch\n",
    "1. LSH - https://github.com/mattilyra/LSH\n",
    "1. Any other library on your choise"
   ]
  },
  {
   "cell_type": "markdown",
   "metadata": {
    "id": "uff5aBpgDMVR"
   },
   "source": [
    "1. Detect duplicated text (duplicates do not imply a complete word-to-word match, but texts that may contain a paraphrase, rearrangement of words, sentences)\n",
    "1. Make a plot dependency of duplicates on shingle size (with fixed minhash length) \n",
    "1. Make a plot dependency of duplicates on minhash length (with fixed shingle size)"
   ]
  },
  {
   "cell_type": "code",
   "execution_count": 237,
   "metadata": {},
   "outputs": [
    {
     "name": "stdout",
     "output_type": "stream",
     "text": [
      "Collecting datasketch\n",
      "  Downloading datasketch-1.5.7-py2.py3-none-any.whl (75 kB)\n",
      "Requirement already satisfied: scipy>=1.0.0 in c:\\users\\elisaveta\\anaconda3\\lib\\site-packages (from datasketch) (1.6.2)\n",
      "Requirement already satisfied: numpy>=1.11 in c:\\users\\elisaveta\\anaconda3\\lib\\site-packages (from datasketch) (1.20.1)\n",
      "Installing collected packages: datasketch\n",
      "Successfully installed datasketch-1.5.7\n",
      "Note: you may need to restart the kernel to use updated packages.\n"
     ]
    }
   ],
   "source": [
    "pip install datasketch"
   ]
  },
  {
   "cell_type": "code",
   "execution_count": 339,
   "metadata": {},
   "outputs": [
    {
     "name": "stderr",
     "output_type": "stream",
     "text": [
      "100%|████████████████████████████████████████████████████████████████████████████████████| 2/2 [00:00<00:00, 95.69it/s]\n",
      "100%|██████████████████████████████████████████████████████████████████████████████████| 2/2 [00:00<00:00, 2000.14it/s]\n"
     ]
    }
   ],
   "source": [
    "lsh_df = cleaned_data.iloc[:2results,:]\n",
    "lsh_data_list = []\n",
    "lsh_data_list = lsh_df['text'].tolist()\n",
    "\n",
    "for i in tqdm(range(len(lsh_data_list))):\n",
    "    lsh_data_list[i]=word_tokenize(lsh_data_list[i])\n",
    "\n",
    "lsh_data = []\n",
    "for lst in tqdm(lsh_data_list):\n",
    "    lsh_data.extend(lst)"
   ]
  },
  {
   "cell_type": "code",
   "execution_count": 271,
   "metadata": {},
   "outputs": [],
   "source": [
    "from datasketch import MinHashLSH"
   ]
  },
  {
   "cell_type": "code",
   "execution_count": 336,
   "metadata": {},
   "outputs": [],
   "source": [
    "def lsh_m(data,n,num_perm):\n",
    "    shingle_set = []\n",
    "    for i in range(len(data)):\n",
    "        word = data[i]\n",
    "        shingle_set.append([word[k:k+n] for k in range(len(word))][:-n])    \n",
    "    lsh = MinHashLSH(threshold=0.5, num_perm=num_perm)\n",
    "    m_set = []\n",
    "    for i in range(len(shingle_set)):\n",
    "        data_sh = set(shingle_set[i])\n",
    "        \n",
    "        m=MinHash(num_perm=num_perm)\n",
    "        \n",
    "        for d in data_sh:\n",
    "            m.update(d.encode('utf-8'))\n",
    "        m_set.append(m)\n",
    "        lsh.insert(f'm{i}',m)   \n",
    "    l=0\n",
    "    for i in range(len(m_set)):\n",
    "        result = lsh.query(m_set[i])\n",
    "        l+=len(result)-1\n",
    "    return n,num_perm,l\n"
   ]
  },
  {
   "cell_type": "code",
   "execution_count": 341,
   "metadata": {},
   "outputs": [],
   "source": [
    "results = []\n",
    "shingles = [3, 4, 5, 7]\n",
    "for sh in shingles:\n",
    "    num = lsh_m(lsh_data, sh, 70)[2]\n",
    "    results.append(num)"
   ]
  },
  {
   "cell_type": "code",
   "execution_count": 344,
   "metadata": {},
   "outputs": [
    {
     "data": {
      "image/png": "[encoded data removed]",
      "text/plain": [
       "<Figure size 1080x720 with 1 Axes>"
      ]
     },
     "metadata": {
      "needs_background": "light"
     },
     "output_type": "display_data"
    }
   ],
   "source": [
    "import matplotlib.pyplot as plt\n",
    "plt.figure(figsize=(15, 10))\n",
    "plt.bar(shingles, num_candidates_shingles, align='center')\n",
    "plt.title('Dependency of duplicates on shingle size')\n",
    "plt.xlabel('Number of shingles')\n",
    "plt.ylabel('Number of duplicates')\n",
    "plt.xticks(shingles, shingles)\n",
    "plt.show()"
   ]
  },
  {
   "cell_type": "markdown",
   "metadata": {
    "id": "njdTa1daDMVS"
   },
   "source": [
    "# [Optional 10 points] Part 3. Topic model"
   ]
  },
  {
   "cell_type": "markdown",
   "metadata": {
    "id": "4BwJNkn2DMVT"
   },
   "source": [
    "In this part you will learn how to do topic modeling with common tools and assess the resulting quality of the models. "
   ]
  },
  {
   "cell_type": "code",
   "execution_count": null,
   "metadata": {
    "id": "l0WcLMhHDMVT"
   },
   "outputs": [],
   "source": []
  },
  {
   "cell_type": "markdown",
   "metadata": {
    "id": "WkNFzxqPDMVU"
   },
   "source": [
    "The provided data contain chunked stories by Edgar Allan Poe (EAP), Mary Shelley (MWS), and HP Lovecraft (HPL).\n",
    "\n",
    "The dataset can be downloaded here: `https://drive.google.com/file/d/14tAjAzHr6UmFVFV7ABTyNHBh-dWHAaLH/view?usp=sharing`"
   ]
  },
  {
   "cell_type": "markdown",
   "metadata": {
    "id": "5BNIa1miDMVU"
   },
   "source": [
    "#### Preprocess dataset with the functions from the Part 1"
   ]
  },
  {
   "cell_type": "code",
   "execution_count": null,
   "metadata": {
    "id": "9B8PZNRyDMVV"
   },
   "outputs": [],
   "source": []
  },
  {
   "cell_type": "markdown",
   "metadata": {
    "id": "qKU2D29CDMVV"
   },
   "source": [
    "#### Quality estimation"
   ]
  },
  {
   "cell_type": "markdown",
   "metadata": {
    "id": "l6xfd3vpDMVW"
   },
   "source": [
    "Implement the following three quality fuctions: `coherence` (or `tf-idf coherence`), `normalized PMI`, `based on the distributed word representation`(you can use pretrained w2v vectors or some other model). You are free to use any libraries (for instance gensim) and components."
   ]
  },
  {
   "cell_type": "code",
   "execution_count": null,
   "metadata": {
    "id": "AEtv-gWcDMVW"
   },
   "outputs": [],
   "source": []
  },
  {
   "cell_type": "markdown",
   "metadata": {
    "id": "Kp1jTJmPDMVX"
   },
   "source": [
    "### Topic modeling"
   ]
  },
  {
   "cell_type": "markdown",
   "metadata": {
    "id": "lgbVtgphDMVX"
   },
   "source": [
    "Read and preprocess the dataset, divide it into train and test parts `sklearn.model_selection.train_test_split`. Test part will be used in classification part. For simplicity we do not perform cross-validation here, but you should remember about it."
   ]
  },
  {
   "cell_type": "code",
   "execution_count": null,
   "metadata": {
    "id": "_Uh0J_C8DMVY"
   },
   "outputs": [],
   "source": []
  },
  {
   "cell_type": "markdown",
   "metadata": {
    "id": "rNepVz1wDMVY"
   },
   "source": [
    "Plot the histogram of resulting tokens counts in the processed datasets."
   ]
  },
  {
   "cell_type": "code",
   "execution_count": null,
   "metadata": {
    "id": "L_7JVEfbDMVZ"
   },
   "outputs": [],
   "source": []
  },
  {
   "cell_type": "markdown",
   "metadata": {
    "id": "ulOjNL9vDMVZ"
   },
   "source": [
    "Plot the histogram of resulting tokens counts in the processed datasets."
   ]
  },
  {
   "cell_type": "code",
   "execution_count": null,
   "metadata": {
    "id": "HAse0LBvDMVa"
   },
   "outputs": [],
   "source": []
  },
  {
   "cell_type": "markdown",
   "metadata": {
    "id": "4N86AaGNDMVa"
   },
   "source": [
    "#### NMF"
   ]
  },
  {
   "cell_type": "markdown",
   "metadata": {
    "id": "kPelcAFQDMVa"
   },
   "source": [
    "Implement topic modeling with NMF (you can use `sklearn.decomposition.NMF`) and print out resulting topics. Try to change hyperparameters to better fit the dataset."
   ]
  },
  {
   "cell_type": "code",
   "execution_count": null,
   "metadata": {
    "id": "DCPzCMMMDMVa"
   },
   "outputs": [],
   "source": []
  },
  {
   "cell_type": "markdown",
   "metadata": {
    "id": "zuaKAGIWDMVb"
   },
   "source": [
    "#### LDA"
   ]
  },
  {
   "cell_type": "markdown",
   "metadata": {
    "id": "PAK_MfQxDMVb"
   },
   "source": [
    "Implement topic modeling with LDA (you can use gensim implementation) and print out resulting topics. Try to change hyperparameters to better fit the dataset."
   ]
  },
  {
   "cell_type": "code",
   "execution_count": null,
   "metadata": {
    "id": "fdzopuCJDMVb"
   },
   "outputs": [],
   "source": []
  },
  {
   "cell_type": "markdown",
   "metadata": {
    "id": "vSF6fq0NDMVc"
   },
   "source": [
    "### Additive regularization of topic models "
   ]
  },
  {
   "cell_type": "markdown",
   "metadata": {
    "id": "tVcA4itQDMVc"
   },
   "source": [
    "Implement topic modeling with ARTM. You may use bigartm library (simple installation for linux: pip install bigartm) or TopicNet framework (`https://github.com/machine-intelligence-laboratory/TopicNet`)"
   ]
  },
  {
   "cell_type": "markdown",
   "metadata": {
    "id": "03xhr0PmDMVc"
   },
   "source": [
    "Create artm topic model fit it to the data. Try to change hyperparameters (number of specific and background topics) to better fit the dataset. Play with smoothing and sparsing coefficients (use grid), try to add decorrelator. Print out resulting topics."
   ]
  },
  {
   "cell_type": "code",
   "execution_count": null,
   "metadata": {
    "id": "tgv1qIUZDMVc"
   },
   "outputs": [],
   "source": []
  },
  {
   "cell_type": "markdown",
   "metadata": {
    "id": "mteOYV8TDMVd"
   },
   "source": [
    "Write a function to convert new documents to topics probabilities vectors."
   ]
  },
  {
   "cell_type": "code",
   "execution_count": null,
   "metadata": {
    "id": "IGkD9YaxDMVd"
   },
   "outputs": [],
   "source": []
  },
  {
   "cell_type": "markdown",
   "metadata": {
    "id": "SPrNOdMLDMVd"
   },
   "source": [
    "Calculate the quality scores for each model. Make a barplot to compare the quality."
   ]
  },
  {
   "cell_type": "code",
   "execution_count": null,
   "metadata": {
    "id": "hQadAQCXDMVd"
   },
   "outputs": [],
   "source": []
  }
 ],
 "metadata": {
  "colab": {
   "collapsed_sections": [
    "_h_c-1kBDMVN",
    "5ZxcPfLTDMVO",
    "5BNIa1miDMVU",
    "qKU2D29CDMVV",
    "4N86AaGNDMVa",
    "zuaKAGIWDMVb"
   ],
   "name": "hw1.ipynb",
   "provenance": []
  },
  "kernelspec": {
   "display_name": "Python 3",
   "language": "python",
   "name": "python3"
  },
  "language_info": {
   "codemirror_mode": {
    "name": "ipython",
    "version": 3
   },
   "file_extension": ".py",
   "mimetype": "text/x-python",
   "name": "python",
   "nbconvert_exporter": "python",
   "pygments_lexer": "ipython3",
   "version": "3.8.8"
  }
 },
 "nbformat": 4,
 "nbformat_minor": 1
}
